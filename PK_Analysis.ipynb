{
  "nbformat": 4,
  "nbformat_minor": 0,
  "metadata": {
    "colab": {
      "provenance": [],
      "authorship_tag": "ABX9TyPoHVnPJ/zfrFyrnx4xYIP+"
    },
    "kernelspec": {
      "name": "python3",
      "display_name": "Python 3"
    },
    "language_info": {
      "name": "python"
    }
  },
  "cells": [
    {
      "cell_type": "code",
      "execution_count": 1,
      "metadata": {
        "collapsed": true,
        "id": "q80KAaIhfNr4"
      },
      "outputs": [],
      "source": [
        "import requests\n",
        "\n",
        "response = requests.post('https://fbrapi.com/generate_api_key')\n",
        "api_key = response.json()['api_key']"
      ]
    },
    {
      "cell_type": "code",
      "source": [
        "# This function creates a tidy dataframe with 3 columns (Team, Penalty Kick Attempts, Penalty Kick Scored) from the FBref.com website\n",
        "# the inputs 'league' and 'year' determine the API paramaters to allow us to create dataframes based on season and league.\n",
        "# The endpoints being used are /team-season-stats - https://fbrapi.com/documentation#team-season-stats\n",
        "\n",
        "import time\n",
        "import pandas as pd\n",
        "\n",
        "def create_df(league: int, year: str):\n",
        "  # we will be running this multiple times - FBReference has a limit of 6 seconds between requests.\n",
        "  t = 6.1\n",
        "  time.sleep(t)\n",
        "\n",
        "  url = \"https://fbrapi.com/team-season-stats\"\n",
        "  params = {\n",
        "    \"league_id\": league,\n",
        "    \"season_id\": year,\n",
        "  }\n",
        "  headers = {\"X-API-Key\": api_key}\n",
        "\n",
        "  response = requests.get(url=url, params=params, headers=headers)\n",
        "  response.raise_for_status()\n",
        "  data = response.json()\n",
        "\n",
        "  for meta in data:\n",
        "    data_simplified = data[meta]\n",
        "\n",
        "  df = pd.DataFrame(data_simplified)\n",
        "\n",
        "  pk_made = []\n",
        "  pk_attempts = []\n",
        "  team_names = []\n",
        "\n",
        "  for goal in df['stats']:\n",
        "    pk_made.append(goal['stats']['ttl_pk_made'])\n",
        "\n",
        "  for attempt in df['stats']:\n",
        "    pk_attempts.append(attempt['stats']['ttl_pk_att'])\n",
        "\n",
        "  for team in df['meta_data']:\n",
        "    team_names.append(team['team_name'])\n",
        "\n",
        "  dict = {'team': team_names, 'pk attempts': pk_attempts, 'pk made': pk_made}\n",
        "\n",
        "  return pd.DataFrame(dict).set_index('team')\n",
        "\n",
        "df_pl2122 = create_df(9, \"2021-2022\")   #the English Premier League code is 9\n",
        "\n",
        "print(f'\\nPremier League 2021-2022 Season:\\n {df_pl2122}')\n"
      ],
      "metadata": {
        "colab": {
          "base_uri": "https://localhost:8080/"
        },
        "id": "Vq7rb45QfVZO",
        "outputId": "13cd8524-015e-4210-80ce-b3b5d49293b0"
      },
      "execution_count": 3,
      "outputs": [
        {
          "output_type": "stream",
          "name": "stdout",
          "text": [
            "\n",
            "Premier League 2021-2022 Season:\n",
            "                  pk attempts  pk made\n",
            "team                                 \n",
            "Arsenal                    8        5\n",
            "Aston Villa                3        3\n",
            "Brentford                  6        6\n",
            "Brighton                   7        4\n",
            "Burnley                    2        1\n",
            "Chelsea                    9        8\n",
            "Crystal Palace             8        6\n",
            "Everton                    7        6\n",
            "Leeds United               5        5\n",
            "Leicester City             2        2\n",
            "Liverpool                  8        7\n",
            "Manchester City            9        7\n",
            "Manchester Utd             5        3\n",
            "Newcastle Utd              3        3\n",
            "Norwich City               3        3\n",
            "Southampton                4        4\n",
            "Tottenham                  5        5\n",
            "Watford                    2        1\n",
            "West Ham                   6        4\n",
            "Wolves                     1        1\n"
          ]
        }
      ]
    },
    {
      "cell_type": "code",
      "source": [
        "# To get multiple dataframes lets run the create_df a few more times. This will take a minute.\n",
        "df_pl2021 = create_df(9, \"2020-2021\")\n",
        "df_pl2223 = create_df(9, \"2022-2023\")\n",
        "df_pl2324 = create_df(9, \"2023-2024\")\n",
        "df_pl2425 = create_df(9, \"2024-2025\")\n"
      ],
      "metadata": {
        "id": "1kKI51M75vhW"
      },
      "execution_count": 4,
      "outputs": []
    },
    {
      "cell_type": "code",
      "source": [
        "# Let's sure that the pk attempts and pk made are integers so that we can sum them (multiple season totals).\n",
        "\n",
        "df_pl2223.dtypes"
      ],
      "metadata": {
        "colab": {
          "base_uri": "https://localhost:8080/",
          "height": 147
        },
        "id": "q7F7wwqxB4LE",
        "outputId": "8c72f36d-7517-4e2d-dfd1-56738f2bd789"
      },
      "execution_count": 5,
      "outputs": [
        {
          "output_type": "execute_result",
          "data": {
            "text/plain": [
              "pk attempts    int64\n",
              "pk made        int64\n",
              "dtype: object"
            ],
            "text/html": [
              "<div>\n",
              "<style scoped>\n",
              "    .dataframe tbody tr th:only-of-type {\n",
              "        vertical-align: middle;\n",
              "    }\n",
              "\n",
              "    .dataframe tbody tr th {\n",
              "        vertical-align: top;\n",
              "    }\n",
              "\n",
              "    .dataframe thead th {\n",
              "        text-align: right;\n",
              "    }\n",
              "</style>\n",
              "<table border=\"1\" class=\"dataframe\">\n",
              "  <thead>\n",
              "    <tr style=\"text-align: right;\">\n",
              "      <th></th>\n",
              "      <th>0</th>\n",
              "    </tr>\n",
              "  </thead>\n",
              "  <tbody>\n",
              "    <tr>\n",
              "      <th>pk attempts</th>\n",
              "      <td>int64</td>\n",
              "    </tr>\n",
              "    <tr>\n",
              "      <th>pk made</th>\n",
              "      <td>int64</td>\n",
              "    </tr>\n",
              "  </tbody>\n",
              "</table>\n",
              "</div><br><label><b>dtype:</b> object</label>"
            ]
          },
          "metadata": {},
          "execution_count": 5
        }
      ]
    },
    {
      "cell_type": "code",
      "source": [
        "# merging dataframes to sum attempts and goals while adding our conversion ratio of goals to attempts\n",
        "\n",
        "dataframes = [df_pl2021, df_pl2122, df_pl2223, df_pl2324, df_pl2425]\n",
        "\n",
        "merged_df = pd.concat(dataframes, join='outer').groupby('team').sum()\n",
        "\n",
        "merged_df['conversion ratio'] = (merged_df['pk made']/merged_df['pk attempts']).round(2)\n",
        "print(merged_df)\n"
      ],
      "metadata": {
        "colab": {
          "base_uri": "https://localhost:8080/"
        },
        "id": "iB213efzI1HO",
        "outputId": "bdfb6777-3042-42c4-afc3-4bc4d592ff72"
      },
      "execution_count": 6,
      "outputs": [
        {
          "output_type": "stream",
          "name": "stdout",
          "text": [
            "                 pk attempts  pk made  conversion ratio\n",
            "team                                                   \n",
            "Arsenal                   30       26              0.87\n",
            "Aston Villa               23       18              0.78\n",
            "Bournemouth               10        8              0.80\n",
            "Brentford                 23       21              0.91\n",
            "Brighton                  35       28              0.80\n",
            "Burnley                    8        7              0.88\n",
            "Chelsea                   39       34              0.87\n",
            "Crystal Palace            23       17              0.74\n",
            "Everton                   20       17              0.85\n",
            "Fulham                    21       13              0.62\n",
            "Ipswich Town               2        2              1.00\n",
            "Leeds United              12       10              0.83\n",
            "Leicester City            23       17              0.74\n",
            "Liverpool                 36       30              0.83\n",
            "Luton Town                 5        5              1.00\n",
            "Manchester City           42       33              0.79\n",
            "Manchester Utd            30       26              0.87\n",
            "Newcastle Utd             31       28              0.90\n",
            "Norwich City               3        3              1.00\n",
            "Nott'ham Forest           10        7              0.70\n",
            "Sheffield Utd              9        8              0.89\n",
            "Southampton               16       11              0.69\n",
            "Tottenham                 22       20              0.91\n",
            "Watford                    2        1              0.50\n",
            "West Brom                  4        4              1.00\n",
            "West Ham                  26       19              0.73\n",
            "Wolves                    12       12              1.00\n"
          ]
        }
      ]
    },
    {
      "cell_type": "code",
      "source": [
        "merged_df['conversion ratio'].median()"
      ],
      "metadata": {
        "colab": {
          "base_uri": "https://localhost:8080/"
        },
        "id": "OkpQunhde9Qh",
        "outputId": "dd7bb242-a26e-4167-dabf-144c03057bd6"
      },
      "execution_count": 7,
      "outputs": [
        {
          "output_type": "execute_result",
          "data": {
            "text/plain": [
              "0.85"
            ]
          },
          "metadata": {},
          "execution_count": 7
        }
      ]
    },
    {
      "cell_type": "code",
      "source": [
        "# Let's see if there are strong underperformers/overperformers. The xG of a PK is 0.79\n",
        "print(merged_df.sort_values(by='conversion ratio', ascending=False))"
      ],
      "metadata": {
        "colab": {
          "base_uri": "https://localhost:8080/"
        },
        "id": "ucAwHbO3fwXU",
        "outputId": "e9bf0805-026a-41f6-d8af-ac7aab0980cd"
      },
      "execution_count": 8,
      "outputs": [
        {
          "output_type": "stream",
          "name": "stdout",
          "text": [
            "                 pk attempts  pk made  conversion ratio\n",
            "team                                                   \n",
            "Ipswich Town               2        2              1.00\n",
            "Norwich City               3        3              1.00\n",
            "Luton Town                 5        5              1.00\n",
            "Wolves                    12       12              1.00\n",
            "West Brom                  4        4              1.00\n",
            "Brentford                 23       21              0.91\n",
            "Tottenham                 22       20              0.91\n",
            "Newcastle Utd             31       28              0.90\n",
            "Sheffield Utd              9        8              0.89\n",
            "Burnley                    8        7              0.88\n",
            "Arsenal                   30       26              0.87\n",
            "Chelsea                   39       34              0.87\n",
            "Manchester Utd            30       26              0.87\n",
            "Everton                   20       17              0.85\n",
            "Liverpool                 36       30              0.83\n",
            "Leeds United              12       10              0.83\n",
            "Bournemouth               10        8              0.80\n",
            "Brighton                  35       28              0.80\n",
            "Manchester City           42       33              0.79\n",
            "Aston Villa               23       18              0.78\n",
            "Crystal Palace            23       17              0.74\n",
            "Leicester City            23       17              0.74\n",
            "West Ham                  26       19              0.73\n",
            "Nott'ham Forest           10        7              0.70\n",
            "Southampton               16       11              0.69\n",
            "Fulham                    21       13              0.62\n",
            "Watford                    2        1              0.50\n"
          ]
        }
      ]
    },
    {
      "cell_type": "code",
      "source": [
        "# Let's remove the entries that 5 or less attempts as these represent teams that have only spent 1 year in the league.\n",
        "\n",
        "filter_by_attempts = merged_df.loc[merged_df['pk attempts'] > 5]\n",
        "print(filter_by_attempts.sort_values(by='conversion ratio', ascending=False))"
      ],
      "metadata": {
        "colab": {
          "base_uri": "https://localhost:8080/"
        },
        "id": "xZ-Nvnr5gI6o",
        "outputId": "09affeb7-9fb4-4aa3-d9d2-fb825f5c5bd2"
      },
      "execution_count": 9,
      "outputs": [
        {
          "output_type": "stream",
          "name": "stdout",
          "text": [
            "                 pk attempts  pk made  conversion ratio\n",
            "team                                                   \n",
            "Wolves                    12       12              1.00\n",
            "Brentford                 23       21              0.91\n",
            "Tottenham                 22       20              0.91\n",
            "Newcastle Utd             31       28              0.90\n",
            "Sheffield Utd              9        8              0.89\n",
            "Burnley                    8        7              0.88\n",
            "Chelsea                   39       34              0.87\n",
            "Manchester Utd            30       26              0.87\n",
            "Arsenal                   30       26              0.87\n",
            "Everton                   20       17              0.85\n",
            "Leeds United              12       10              0.83\n",
            "Liverpool                 36       30              0.83\n",
            "Bournemouth               10        8              0.80\n",
            "Brighton                  35       28              0.80\n",
            "Manchester City           42       33              0.79\n",
            "Aston Villa               23       18              0.78\n",
            "Crystal Palace            23       17              0.74\n",
            "Leicester City            23       17              0.74\n",
            "West Ham                  26       19              0.73\n",
            "Nott'ham Forest           10        7              0.70\n",
            "Southampton               16       11              0.69\n",
            "Fulham                    21       13              0.62\n"
          ]
        }
      ]
    },
    {
      "cell_type": "code",
      "source": [
        "# Despite Fulham massively underperforming at penalty kicks, looking at the table it seems that a lot of teams are doing a lot better than the 0.79 probability of a PK goal.\n",
        "import statistics\n",
        "\n",
        "sd_list = []\n",
        "\n",
        "for i in filter_by_attempts['conversion ratio']:\n",
        "  sd_list.append(i)\n",
        "\n",
        "print(sd_list)\n",
        "print(f'standard deviation: {statistics.stdev(sd_list)}, mean: {statistics.mean(sd_list)}')\n",
        "\n"
      ],
      "metadata": {
        "colab": {
          "base_uri": "https://localhost:8080/"
        },
        "id": "mT-IRai3jNtR",
        "outputId": "d2a56461-3f39-41bc-f7ae-b82cd5edfaf2"
      },
      "execution_count": 12,
      "outputs": [
        {
          "output_type": "stream",
          "name": "stdout",
          "text": [
            "[0.87, 0.78, 0.8, 0.91, 0.8, 0.88, 0.87, 0.74, 0.85, 0.62, 0.83, 0.74, 0.83, 0.79, 0.87, 0.9, 0.7, 0.89, 0.69, 0.91, 0.73, 1.0]\n",
            "standard deviation: 0.08931679112848367, mean: 0.8181818181818182\n"
          ]
        }
      ]
    },
    {
      "cell_type": "code",
      "source": [
        "# Checking if this function works for other top leagues.\n",
        "\n",
        "df_sa2021 = create_df(league=11, year='2020-2021')    # league 11 is Serie A\n",
        "\n",
        "print(df_sa2021)"
      ],
      "metadata": {
        "colab": {
          "base_uri": "https://localhost:8080/"
        },
        "id": "DFKWZsPanxnB",
        "outputId": "da578dbb-548b-474e-ac24-4c22b1f21713"
      },
      "execution_count": 13,
      "outputs": [
        {
          "output_type": "stream",
          "name": "stdout",
          "text": [
            "               pk attempts  pk made\n",
            "team                               \n",
            "Atalanta                 7        6\n",
            "Benevento                7        5\n",
            "Bologna                  4        3\n",
            "Cagliari                 5        4\n",
            "Crotone                  9        9\n",
            "Fiorentina               6        6\n",
            "Genoa                    4        4\n",
            "Hellas Verona            3        3\n",
            "Inter                    9        8\n",
            "Juventus                10        8\n",
            "Lazio                   10        6\n",
            "Milan                   20       15\n",
            "Napoli                   8        7\n",
            "Parma                    5        5\n",
            "Roma                     8        7\n",
            "Sampdoria                6        5\n",
            "Sassuolo                14       13\n",
            "Spezia                   5        4\n",
            "Torino                   6        5\n",
            "Udinese                  4        4\n"
          ]
        }
      ]
    },
    {
      "cell_type": "code",
      "source": [
        "# TO DO:\n",
        "# Make the same data for 4 other leagues, make a pivot table where we compare total pk conversion in those leagues."
      ],
      "metadata": {
        "id": "brZVhfWPovfP"
      },
      "execution_count": null,
      "outputs": []
    }
  ]
}