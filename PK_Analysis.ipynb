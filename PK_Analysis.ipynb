{
  "nbformat": 4,
  "nbformat_minor": 0,
  "metadata": {
    "colab": {
      "provenance": [],
      "authorship_tag": "ABX9TyPop4XtJXmfu/0tiMW8bvZ6"
    },
    "kernelspec": {
      "name": "python3",
      "display_name": "Python 3"
    },
    "language_info": {
      "name": "python"
    }
  },
  "cells": [
    {
      "cell_type": "code",
      "execution_count": 102,
      "metadata": {
        "collapsed": true,
        "id": "q80KAaIhfNr4"
      },
      "outputs": [],
      "source": [
        "import requests\n",
        "\n",
        "response = requests.post('https://fbrapi.com/generate_api_key')\n",
        "api_key = response.json()['api_key']"
      ]
    },
    {
      "cell_type": "code",
      "source": [
        "# This function creates a tidy dataframe with 3 columns (Team, Penalty Kick Attempts, Penalty Kick Scored) from the FBref.com website\n",
        "# the inputs 'league' and 'year' determine the API paramaters to allow us to create dataframes based on season and league.\n",
        "# The endpoints being used are /team-season-stats - https://fbrapi.com/documentation#team-season-stats\n",
        "\n",
        "import time\n",
        "import pandas as pd\n",
        "\n",
        "def create_df(league: int, year: str):\n",
        "  # we will be running this multiple times - FBReference has a limit of 6 seconds between requests.\n",
        "  t = 6.1\n",
        "  time.sleep(t)\n",
        "\n",
        "  url = \"https://fbrapi.com/team-season-stats\"\n",
        "  params = {\n",
        "    \"league_id\": league,\n",
        "    \"season_id\": year,\n",
        "  }\n",
        "  headers = {\"X-API-Key\": api_key}\n",
        "\n",
        "  response = requests.get(url=url, params=params, headers=headers)\n",
        "  response.raise_for_status()\n",
        "  data = response.json()\n",
        "\n",
        "  print(f'this is what the original json data looks like:\\n {data}')\n",
        "\n",
        "  for meta in data:\n",
        "    data_simplified = data[meta]\n",
        "\n",
        "  df = pd.DataFrame(data_simplified)\n",
        "\n",
        "  pk_made = []\n",
        "  pk_attempts = []\n",
        "  team_names = []\n",
        "\n",
        "  for goal in df['stats']:\n",
        "    pk_made.append(goal['stats']['ttl_pk_made'])\n",
        "\n",
        "  for attempt in df['stats']:\n",
        "    pk_attempts.append(attempt['stats']['ttl_pk_att'])\n",
        "\n",
        "  for team in df['meta_data']:\n",
        "    team_names.append(team['team_name'])\n",
        "\n",
        "  dict = {'team': team_names, 'pk attempts': pk_attempts, 'pk made': pk_made}\n",
        "\n",
        "  return pd.DataFrame(dict).set_index('team')\n",
        "\n",
        "df_pl2122 = create_df(9, \"2021-2022\")   #the English Premier League code is 9\n",
        "\n",
        "print(f'\\nPremier League 2021-2022 Season:\\n {df_pl2122}')\n"
      ],
      "metadata": {
        "colab": {
          "base_uri": "https://localhost:8080/"
        },
        "id": "Vq7rb45QfVZO",
        "outputId": "01f09b2c-a21d-4886-c848-72d775af1865"
      },
      "execution_count": 105,
      "outputs": [
        {
          "output_type": "stream",
          "name": "stdout",
          "text": [
            "this is what the original json data looks like:\n",
            " {'data': [{'meta_data': {'team_id': '18bb7c10', 'team_name': 'Arsenal'}, 'stats': {'stats': {'roster_size': 27, 'matches_played': 38, 'ttl_gls': 60, 'ttl_ast': 41, 'ttl_non_pen_gls': 55, 'ttl_xg': 60.5, 'ttl_non_pen_xg': 55.1, 'ttl_xag': 40.2, 'ttl_pk_made': 5, 'ttl_pk_att': 8, 'ttl_yellow_cards': 67, 'ttl_red_cards': 4, 'ttl_carries_prog': 734, 'ttl_passes_prog': 1655, 'avg_gls': 1.58, 'avg_ast': 1.08, 'avg_non_pen_gls': 1.45, 'avg_xg': 1.59, 'avg_xag': 1.06, 'avg_non_pen_xg': 1.45}, 'keepers': {'ttl_gls_ag': 48, 'avg_gls_ag': 1.26, 'sot_ag': 147, 'ttl_saves': 100, 'save_pct': 70.7, 'clean_sheets': 13, 'clean_sheet_pct': 34.2, 'pk_att_ag': 6, 'pk_made_ag': 5, 'pk_saved': 0, 'pk_miss_ag': 1, 'pk_save_pct': 0.0}, 'keepersadv': {'ttl_pk_att_ag': 5, 'ttl_fk_gls_ag': 0, 'ttl_ck_gls_ag': 3, 'ttl_og_ag': 1, 'ttl_psxg': 47.6, 'psxg_per_sot': 0.29, 'ttl_launched_pass_cmp': 151, 'ttl_launched_pass_att': 533, 'pct_launched_pass_cmp': 28.3, 'ttl_pass_att': 1037, 'ttl_throws_att': 175, 'pct_passes_launched': 36.0, 'avg_pass_len': 33.8, 'ttl_gk_att': 251, 'pct_gk_launch': 63.7, 'avg_gk_len': 48.3, 'ttl_crosses_faced': 487, 'ttl_crosses_stopped': 32, 'pct_crosses_stopped': 6.6, 'ttl_def_action_outside_box': 61, 'avg_def_action_outside_box': 1.61, 'avg_dist_def_action_outside_box': 7.3}, 'shooting': {'ttl_sh': 581, 'ttl_sot': 186, 'pct_sot': 32.0, 'avg_sh': 15.29, 'avg_sot': 4.89, 'gls_per_sh': 0.09, 'gls_per_sot': 0.3, 'avg_sh_dist': 17.8, 'ttl_fk_sh': 21, 'npxg_per_sh': 0.1, 'ttl_gls_xg_diff': -0.5, 'ttl_non_pen_gls_xg_diff': -0.1}, 'passing': {'ttl_pass_cmp': 16176, 'pct_pass_cmp': 81.5, 'pass_ttl_dist': 280868, 'ttl_pass_cmp_s': 7325, 'ttl_pass_att_s': 8210, 'pct_pass_cmp_s': 89.2, 'ttl_pass_cmp_m': 7187, 'ttl_pass_att_m': 8140, 'pct_pass_cmp_m': 88.3, 'ttl_pass_cmp_l': 1326, 'ttl_pass_att_l': 2584, 'pct_pass_cmp_l': 51.3, 'ttl_xa': 34.6, 'ttl_ast_xag_diff': 0.8, 'ttl_pass_prog': 1655, 'pass_prog_ttl_dist': 91114, 'ttl_key_passes': 437, 'ttl_pass_fthird': 1354, 'ttl_pass_opp_box': 329, 'ttl_cross_opp_box': 74}, 'passing_types': {'ttl_pass_live': 18149, 'ttl_pass_dead': 1628, 'ttl_pass_fk': 404, 'ttl_through_balls': 77, 'ttl_switches': 132, 'ttl_crosses': 633, 'ttl_pass_offside': 66, 'ttl_pass_blocked': 309, 'ttl_throw_ins': 679, 'ttl_ck': 208, 'ck_in_swinger': 153, 'ck_out_swinger': 23, 'ck_straight': 5}, 'gca': {'ttl_sca': 1030, 'avg_sca': 27.11, 'ttl_pass_live_sca': 788, 'ttl_take_on_sca': 57, 'ttl_sh_sca': 66, 'ttl_fld_sca': 39, 'ttl_def_sca': 12, 'ttl_gca': 99, 'avg_gca': 2.61, 'ttl_pass_live_gca': 69, 'ttl_pass_dead_gca': 8, 'ttl_take_on_gca': 4, 'ttl_sh_gca': 13, 'ttl_fld_gca': 4, 'ttl_def_gca': 1}, 'defense': {'ttl_tkl': 540, 'ttl_tkl_won': 311, 'ttl_tkl_def_third': 261, 'ttl_tkl_mid_third': 195, 'ttl_tkl_att_third': 84, 'ttl_tkl_drb': 244, 'ttl_tkl_drb_att': 500, 'pct_tkl_drb_suc': 48.8, 'ttl_blocks': 386, 'ttl_sh_blocked': 123, 'ttl_int': 296, 'ttl_tkl_plus_int': 836, 'ttl_clearances': 658, 'ttl_def_error': 20}, 'possession': {'avg_poss': '52.8', 'ttl_touches': 23780, 'ttl_touch_def_box': 2227, 'ttl_touch_def_third': 7151, 'ttl_touch_mid_third': 10336, 'ttl_touch_fthird': 6491, 'ttl_touch_opp_box': 982, 'ttl_touch_live': 23772, 'ttl_take_on_att': 590, 'ttl_take_on_suc': 319, 'pct_take_on_suc': 54.1, 'ttl_take_on_tkld': 271, 'pct_take_on_tkld': 45.9, 'ttl_carries': 13993, 'ttl_carries_dist': 73530, 'ttl_carries_prog_dist': 39388, 'ttl_carries_fthird': 494, 'ttl_carries_opp_box': 223, 'ttl_carries_miscontrolled': 557, 'ttl_carries_dispossessed': 337, 'ttl_pass_recvd': 16066, 'ttl_pass_prog_rcvd': 1642}, 'playingtime': {'avg_age': 24.4, 'avg_min_starter': 85.0, 'ttl_subs': 110, 'avg_min_sub': 17.0}, 'misc': {'ttl_second_yellow_cards': 3, 'ttl_fls_ag': 365, 'ttl_fls_for': 357, 'ttl_offside': 66, 'ttl_pk_won': 6, 'ttl_pk_conceded': 6, 'ttl_og': 1, 'ttl_ball_recov': 1861, 'ttl_air_dual_won': 463, 'ttl_air_dual_lost': 572}}}, {'meta_data': {'team_id': '8602292d', 'team_name': 'Aston Villa'}, 'stats': {'stats': {'roster_size': 31, 'matches_played': 38, 'ttl_gls': 50, 'ttl_ast': 42, 'ttl_non_pen_gls': 47, 'ttl_xg': 44.0, 'ttl_non_pen_xg': 42.0, 'ttl_xag': 34.8, 'ttl_pk_made': 3, 'ttl_pk_att': 3, 'ttl_yellow_cards': 81, 'ttl_red_cards': 2, 'ttl_carries_prog': 653, 'ttl_passes_prog': 1300, 'avg_gls': 1.32, 'avg_ast': 1.11, 'avg_non_pen_gls': 1.24, 'avg_xg': 1.16, 'avg_xag': 0.92, 'avg_non_pen_xg': 1.1}, 'keepers': {'ttl_gls_ag': 54, 'avg_gls_ag': 1.42, 'sot_ag': 149, 'ttl_saves': 96, 'save_pct': 66.4, 'clean_sheets': 11, 'clean_sheet_pct': 28.9, 'pk_att_ag': 6, 'pk_made_ag': 4, 'pk_saved': 1, 'pk_miss_ag': 1, 'pk_save_pct': 20.0}, 'keepersadv': {'ttl_pk_att_ag': 4, 'ttl_fk_gls_ag': 2, 'ttl_ck_gls_ag': 5, 'ttl_og_ag': 2, 'ttl_psxg': 46.5, 'psxg_per_sot': 0.29, 'ttl_launched_pass_cmp': 157, 'ttl_launched_pass_att': 442, 'pct_launched_pass_cmp': 35.5, 'ttl_pass_att': 880, 'ttl_throws_att': 176, 'pct_passes_launched': 36.5, 'avg_pass_len': 33.6, 'ttl_gk_att': 303, 'pct_gk_launch': 39.9, 'avg_gk_len': 34.8, 'ttl_crosses_faced': 513, 'ttl_crosses_stopped': 40, 'pct_crosses_stopped': 7.8, 'ttl_def_action_outside_box': 34, 'avg_def_action_outside_box': 0.89, 'avg_dist_def_action_outside_box': 15.4}, 'shooting': {'ttl_sh': 461, 'ttl_sot': 159, 'pct_sot': 34.5, 'avg_sh': 12.13, 'avg_sot': 4.18, 'gls_per_sh': 0.1, 'gls_per_sot': 0.3, 'avg_sh_dist': 17.6, 'ttl_fk_sh': 20, 'npxg_per_sh': 0.09, 'ttl_gls_xg_diff': 6.0, 'ttl_non_pen_gls_xg_diff': 5.0}, 'passing': {'ttl_pass_cmp': 12748, 'pct_pass_cmp': 77.3, 'pass_ttl_dist': 220973, 'ttl_pass_cmp_s': 5916, 'ttl_pass_att_s': 6803, 'pct_pass_cmp_s': 87.0, 'ttl_pass_cmp_m': 5184, 'ttl_pass_att_m': 6136, 'pct_pass_cmp_m': 84.5, 'ttl_pass_cmp_l': 1239, 'ttl_pass_att_l': 2571, 'pct_pass_cmp_l': 48.2, 'ttl_xa': 30.0, 'ttl_ast_xag_diff': 7.2, 'ttl_pass_prog': 1300, 'pass_prog_ttl_dist': 85405, 'ttl_key_passes': 356, 'ttl_pass_fthird': 1019, 'ttl_pass_opp_box': 293, 'ttl_cross_opp_box': 70}, 'passing_types': {'ttl_pass_live': 14615, 'ttl_pass_dead': 1832, 'ttl_pass_fk': 525, 'ttl_through_balls': 71, 'ttl_switches': 97, 'ttl_crosses': 670, 'ttl_pass_offside': 52, 'ttl_pass_blocked': 278, 'ttl_throw_ins': 716, 'ttl_ck': 196, 'ck_in_swinger': 111, 'ck_out_swinger': 42, 'ck_straight': 11}, 'gca': {'ttl_sca': 837, 'avg_sca': 22.03, 'ttl_pass_live_sca': 608, 'ttl_take_on_sca': 49, 'ttl_sh_sca': 41, 'ttl_fld_sca': 48, 'ttl_def_sca': 6, 'ttl_gca': 93, 'avg_gca': 2.45, 'ttl_pass_live_gca': 65, 'ttl_pass_dead_gca': 9, 'ttl_take_on_gca': 9, 'ttl_sh_gca': 7, 'ttl_fld_gca': 3, 'ttl_def_gca': 0}, 'defense': {'ttl_tkl': 634, 'ttl_tkl_won': 382, 'ttl_tkl_def_third': 300, 'ttl_tkl_mid_third': 259, 'ttl_tkl_att_third': 75, 'ttl_tkl_drb': 300, 'ttl_tkl_drb_att': 649, 'pct_tkl_drb_suc': 46.2, 'ttl_blocks': 453, 'ttl_sh_blocked': 140, 'ttl_int': 339, 'ttl_tkl_plus_int': 973, 'ttl_clearances': 693, 'ttl_def_error': 13}, 'possession': {'avg_poss': '46.5', 'ttl_touches': 20609, 'ttl_touch_def_box': 2411, 'ttl_touch_def_third': 6876, 'ttl_touch_mid_third': 8896, 'ttl_touch_fthird': 5049, 'ttl_touch_opp_box': 825, 'ttl_touch_live': 20606, 'ttl_take_on_att': 587, 'ttl_take_on_suc': 333, 'pct_take_on_suc': 56.7, 'ttl_take_on_tkld': 254, 'pct_take_on_tkld': 43.3, 'ttl_carries': 11796, 'ttl_carries_dist': 62511, 'ttl_carries_prog_dist': 31674, 'ttl_carries_fthird': 422, 'ttl_carries_opp_box': 166, 'ttl_carries_miscontrolled': 595, 'ttl_carries_dispossessed': 344, 'ttl_pass_recvd': 12668, 'ttl_pass_prog_rcvd': 1293}, 'playingtime': {'avg_age': 26.1, 'avg_min_starter': 85.0, 'ttl_subs': 113, 'avg_min_sub': 20.0}, 'misc': {'ttl_second_yellow_cards': 1, 'ttl_fls_ag': 401, 'ttl_fls_for': 504, 'ttl_offside': 52, 'ttl_pk_won': 2, 'ttl_pk_conceded': 6, 'ttl_og': 2, 'ttl_ball_recov': 1850, 'ttl_air_dual_won': 538, 'ttl_air_dual_lost': 561}}}, {'meta_data': {'team_id': 'cd051869', 'team_name': 'Brentford'}, 'stats': {'stats': {'roster_size': 29, 'matches_played': 38, 'ttl_gls': 46, 'ttl_ast': 33, 'ttl_non_pen_gls': 40, 'ttl_xg': 45.8, 'ttl_non_pen_xg': 41.1, 'ttl_xag': 33.0, 'ttl_pk_made': 6, 'ttl_pk_att': 6, 'ttl_yellow_cards': 65, 'ttl_red_cards': 3, 'ttl_carries_prog': 450, 'ttl_passes_prog': 1189, 'avg_gls': 1.21, 'avg_ast': 0.87, 'avg_non_pen_gls': 1.05, 'avg_xg': 1.21, 'avg_xag': 0.87, 'avg_non_pen_xg': 1.08}, 'keepers': {'ttl_gls_ag': 56, 'avg_gls_ag': 1.47, 'sot_ag': 179, 'ttl_saves': 125, 'save_pct': 71.5, 'clean_sheets': 9, 'clean_sheet_pct': 23.7, 'pk_att_ag': 5, 'pk_made_ag': 5, 'pk_saved': 0, 'pk_miss_ag': 0, 'pk_save_pct': 0.0}, 'keepersadv': {'ttl_pk_att_ag': 5, 'ttl_fk_gls_ag': 1, 'ttl_ck_gls_ag': 8, 'ttl_og_ag': 2, 'ttl_psxg': 49.4, 'psxg_per_sot': 0.25, 'ttl_launched_pass_cmp': 298, 'ttl_launched_pass_att': 768, 'pct_launched_pass_cmp': 38.8, 'ttl_pass_att': 1355, 'ttl_throws_att': 184, 'pct_passes_launched': 43.2, 'avg_pass_len': 33.9, 'ttl_gk_att': 300, 'pct_gk_launch': 61.0, 'avg_gk_len': 45.2, 'ttl_crosses_faced': 626, 'ttl_crosses_stopped': 37, 'pct_crosses_stopped': 5.9, 'ttl_def_action_outside_box': 58, 'avg_def_action_outside_box': 1.53, 'avg_dist_def_action_outside_box': 16.8}, 'shooting': {'ttl_sh': 436, 'ttl_sot': 141, 'pct_sot': 32.3, 'avg_sh': 11.47, 'avg_sot': 3.71, 'gls_per_sh': 0.09, 'gls_per_sot': 0.28, 'avg_sh_dist': 16.3, 'ttl_fk_sh': 11, 'npxg_per_sh': 0.1, 'ttl_gls_xg_diff': 0.2, 'ttl_non_pen_gls_xg_diff': -1.1}, 'passing': {'ttl_pass_cmp': 11676, 'pct_pass_cmp': 71.8, 'pass_ttl_dist': 211867, 'ttl_pass_cmp_s': 5201, 'ttl_pass_att_s': 6312, 'pct_pass_cmp_s': 82.4, 'ttl_pass_cmp_m': 4797, 'ttl_pass_att_m': 6120, 'pct_pass_cmp_m': 78.4, 'ttl_pass_cmp_l': 1357, 'ttl_pass_att_l': 2852, 'pct_pass_cmp_l': 47.6, 'ttl_xa': 33.8, 'ttl_ast_xag_diff': 0.0, 'ttl_pass_prog': 1189, 'pass_prog_ttl_dist': 85983, 'ttl_key_passes': 311, 'ttl_pass_fthird': 942, 'ttl_pass_opp_box': 262, 'ttl_cross_opp_box': 81}, 'passing_types': {'ttl_pass_live': 14443, 'ttl_pass_dead': 1763, 'ttl_pass_fk': 432, 'ttl_through_balls': 50, 'ttl_switches': 70, 'ttl_crosses': 640, 'ttl_pass_offside': 66, 'ttl_pass_blocked': 333, 'ttl_throw_ins': 778, 'ttl_ck': 159, 'ck_in_swinger': 84, 'ck_out_swinger': 47, 'ck_straight': 9}, 'gca': {'ttl_sca': 739, 'avg_sca': 19.45, 'ttl_pass_live_sca': 487, 'ttl_take_on_sca': 37, 'ttl_sh_sca': 62, 'ttl_fld_sca': 43, 'ttl_def_sca': 14, 'ttl_gca': 78, 'avg_gca': 2.05, 'ttl_pass_live_gca': 46, 'ttl_pass_dead_gca': 11, 'ttl_take_on_gca': 4, 'ttl_sh_gca': 8, 'ttl_fld_gca': 9, 'ttl_def_gca': 0}, 'defense': {'ttl_tkl': 607, 'ttl_tkl_won': 342, 'ttl_tkl_def_third': 299, 'ttl_tkl_mid_third': 228, 'ttl_tkl_att_third': 80, 'ttl_tkl_drb': 291, 'ttl_tkl_drb_att': 616, 'pct_tkl_drb_suc': 47.2, 'ttl_blocks': 383, 'ttl_sh_blocked': 113, 'ttl_int': 393, 'ttl_tkl_plus_int': 1000, 'ttl_clearances': 863, 'ttl_def_error': 7}, 'possession': {'avg_poss': '44.8', 'ttl_touches': 20462, 'ttl_touch_def_box': 2793, 'ttl_touch_def_third': 7862, 'ttl_touch_mid_third': 8201, 'ttl_touch_fthird': 4566, 'ttl_touch_opp_box': 819, 'ttl_touch_live': 20456, 'ttl_take_on_att': 476, 'ttl_take_on_suc': 262, 'pct_take_on_suc': 55.0, 'ttl_take_on_tkld': 214, 'pct_take_on_tkld': 45.0, 'ttl_carries': 10280, 'ttl_carries_dist': 49925, 'ttl_carries_prog_dist': 26085, 'ttl_carries_fthird': 332, 'ttl_carries_opp_box': 102, 'ttl_carries_miscontrolled': 563, 'ttl_carries_dispossessed': 291, 'ttl_pass_recvd': 11565, 'ttl_pass_prog_rcvd': 1170}, 'playingtime': {'avg_age': 25.4, 'avg_min_starter': 84.0, 'ttl_subs': 114, 'avg_min_sub': 22.0}, 'misc': {'ttl_second_yellow_cards': 2, 'ttl_fls_ag': 371, 'ttl_fls_for': 363, 'ttl_offside': 66, 'ttl_pk_won': 6, 'ttl_pk_conceded': 5, 'ttl_og': 2, 'ttl_ball_recov': 2061, 'ttl_air_dual_won': 717, 'ttl_air_dual_lost': 728}}}, {'meta_data': {'team_id': 'd07537b9', 'team_name': 'Brighton'}, 'stats': {'stats': {'roster_size': 26, 'matches_played': 38, 'ttl_gls': 40, 'ttl_ast': 30, 'ttl_non_pen_gls': 36, 'ttl_xg': 46.2, 'ttl_non_pen_xg': 40.7, 'ttl_xag': 32.3, 'ttl_pk_made': 4, 'ttl_pk_att': 7, 'ttl_yellow_cards': 72, 'ttl_red_cards': 2, 'ttl_carries_prog': 676, 'ttl_passes_prog': 1547, 'avg_gls': 1.05, 'avg_ast': 0.79, 'avg_non_pen_gls': 0.95, 'avg_xg': 1.21, 'avg_xag': 0.85, 'avg_non_pen_xg': 1.07}, 'keepers': {'ttl_gls_ag': 44, 'avg_gls_ag': 1.16, 'sot_ag': 146, 'ttl_saves': 102, 'save_pct': 71.9, 'clean_sheets': 11, 'clean_sheet_pct': 28.9, 'pk_att_ag': 4, 'pk_made_ag': 3, 'pk_saved': 0, 'pk_miss_ag': 1, 'pk_save_pct': 0.0}, 'keepersadv': {'ttl_pk_att_ag': 3, 'ttl_fk_gls_ag': 1, 'ttl_ck_gls_ag': 6, 'ttl_og_ag': 0, 'ttl_psxg': 42.5, 'psxg_per_sot': 0.28, 'ttl_launched_pass_cmp': 161, 'ttl_launched_pass_att': 568, 'pct_launched_pass_cmp': 28.3, 'ttl_pass_att': 1317, 'ttl_throws_att': 188, 'pct_passes_launched': 31.4, 'avg_pass_len': 23.9, 'ttl_gk_att': 241, 'pct_gk_launch': 64.3, 'avg_gk_len': 48.8, 'ttl_crosses_faced': 535, 'ttl_crosses_stopped': 60, 'pct_crosses_stopped': 11.2, 'ttl_def_action_outside_box': 36, 'avg_def_action_outside_box': 0.95, 'avg_dist_def_action_outside_box': 9.3}, 'shooting': {'ttl_sh': 482, 'ttl_sot': 141, 'pct_sot': 29.3, 'avg_sh': 12.68, 'avg_sot': 3.71, 'gls_per_sh': 0.07, 'gls_per_sot': 0.26, 'avg_sh_dist': 17.7, 'ttl_fk_sh': 15, 'npxg_per_sh': 0.09, 'ttl_gls_xg_diff': -6.2, 'ttl_non_pen_gls_xg_diff': -4.7}, 'passing': {'ttl_pass_cmp': 16410, 'pct_pass_cmp': 79.7, 'pass_ttl_dist': 288827, 'ttl_pass_cmp_s': 7195, 'ttl_pass_att_s': 8172, 'pct_pass_cmp_s': 88.0, 'ttl_pass_cmp_m': 7130, 'ttl_pass_att_m': 8208, 'pct_pass_cmp_m': 86.9, 'ttl_pass_cmp_l': 1579, 'ttl_pass_att_l': 2953, 'pct_pass_cmp_l': 53.5, 'ttl_xa': 31.5, 'ttl_ast_xag_diff': -2.3, 'ttl_pass_prog': 1547, 'pass_prog_ttl_dist': 95307, 'ttl_key_passes': 356, 'ttl_pass_fthird': 1187, 'ttl_pass_opp_box': 342, 'ttl_cross_opp_box': 72}, 'passing_types': {'ttl_pass_live': 18838, 'ttl_pass_dead': 1697, 'ttl_pass_fk': 390, 'ttl_through_balls': 58, 'ttl_switches': 152, 'ttl_crosses': 728, 'ttl_pass_offside': 53, 'ttl_pass_blocked': 397, 'ttl_throw_ins': 784, 'ttl_ck': 200, 'ck_in_swinger': 84, 'ck_out_swinger': 96, 'ck_straight': 0}, 'gca': {'ttl_sca': 870, 'avg_sca': 22.89, 'ttl_pass_live_sca': 630, 'ttl_take_on_sca': 49, 'ttl_sh_sca': 55, 'ttl_fld_sca': 40, 'ttl_def_sca': 12, 'ttl_gca': 72, 'avg_gca': 1.89, 'ttl_pass_live_gca': 49, 'ttl_pass_dead_gca': 8, 'ttl_take_on_gca': 4, 'ttl_sh_gca': 6, 'ttl_fld_gca': 4, 'ttl_def_gca': 1}, 'defense': {'ttl_tkl': 668, 'ttl_tkl_won': 403, 'ttl_tkl_def_third': 306, 'ttl_tkl_mid_third': 257, 'ttl_tkl_att_third': 105, 'ttl_tkl_drb': 243, 'ttl_tkl_drb_att': 563, 'pct_tkl_drb_suc': 43.2, 'ttl_blocks': 480, 'ttl_sh_blocked': 150, 'ttl_int': 358, 'ttl_tkl_plus_int': 1026, 'ttl_clearances': 723, 'ttl_def_error': 12}, 'possession': {'avg_poss': '54.4', 'ttl_touches': 24854, 'ttl_touch_def_box': 2629, 'ttl_touch_def_third': 8034, 'ttl_touch_mid_third': 10520, 'ttl_touch_fthird': 6505, 'ttl_touch_opp_box': 876, 'ttl_touch_live': 24847, 'ttl_take_on_att': 559, 'ttl_take_on_suc': 317, 'pct_take_on_suc': 56.7, 'ttl_take_on_tkld': 242, 'pct_take_on_tkld': 43.3, 'ttl_carries': 13919, 'ttl_carries_dist': 68537, 'ttl_carries_prog_dist': 35095, 'ttl_carries_fthird': 519, 'ttl_carries_opp_box': 139, 'ttl_carries_miscontrolled': 598, 'ttl_carries_dispossessed': 349, 'ttl_pass_recvd': 16278, 'ttl_pass_prog_rcvd': 1529}, 'playingtime': {'avg_age': 26.2, 'avg_min_starter': 84.0, 'ttl_subs': 111, 'avg_min_sub': 22.0}, 'misc': {'ttl_second_yellow_cards': 0, 'ttl_fls_ag': 393, 'ttl_fls_for': 355, 'ttl_offside': 53, 'ttl_pk_won': 4, 'ttl_pk_conceded': 4, 'ttl_og': 0, 'ttl_ball_recov': 2154, 'ttl_air_dual_won': 569, 'ttl_air_dual_lost': 498}}}, {'meta_data': {'team_id': '943e8050', 'team_name': 'Burnley'}, 'stats': {'stats': {'roster_size': 23, 'matches_played': 38, 'ttl_gls': 32, 'ttl_ast': 26, 'ttl_non_pen_gls': 31, 'ttl_xg': 39.7, 'ttl_non_pen_xg': 38.1, 'ttl_xag': 31.2, 'ttl_pk_made': 1, 'ttl_pk_att': 2, 'ttl_yellow_cards': 68, 'ttl_red_cards': 2, 'ttl_carries_prog': 388, 'ttl_passes_prog': 972, 'avg_gls': 0.84, 'avg_ast': 0.68, 'avg_non_pen_gls': 0.82, 'avg_xg': 1.05, 'avg_xag': 0.82, 'avg_non_pen_xg': 1.0}, 'keepers': {'ttl_gls_ag': 53, 'avg_gls_ag': 1.39, 'sot_ag': 178, 'ttl_saves': 127, 'save_pct': 73.0, 'clean_sheets': 9, 'clean_sheet_pct': 23.7, 'pk_att_ag': 5, 'pk_made_ag': 5, 'pk_saved': 0, 'pk_miss_ag': 0, 'pk_save_pct': 0.0}, 'keepersadv': {'ttl_pk_att_ag': 5, 'ttl_fk_gls_ag': 1, 'ttl_ck_gls_ag': 7, 'ttl_og_ag': 2, 'ttl_psxg': 47.5, 'psxg_per_sot': 0.25, 'ttl_launched_pass_cmp': 346, 'ttl_launched_pass_att': 870, 'pct_launched_pass_cmp': 39.8, 'ttl_pass_att': 850, 'ttl_throws_att': 154, 'pct_passes_launched': 69.8, 'avg_pass_len': 50.8, 'ttl_gk_att': 304, 'pct_gk_launch': 91.1, 'avg_gk_len': 61.3, 'ttl_crosses_faced': 642, 'ttl_crosses_stopped': 46, 'pct_crosses_stopped': 7.2, 'ttl_def_action_outside_box': 84, 'avg_def_action_outside_box': 2.21, 'avg_dist_def_action_outside_box': 17.0}, 'shooting': {'ttl_sh': 405, 'ttl_sot': 119, 'pct_sot': 29.4, 'avg_sh': 10.66, 'avg_sot': 3.13, 'gls_per_sh': 0.08, 'gls_per_sot': 0.26, 'avg_sh_dist': 17.2, 'ttl_fk_sh': 14, 'npxg_per_sh': 0.1, 'ttl_gls_xg_diff': -7.7, 'ttl_non_pen_gls_xg_diff': -7.1}, 'passing': {'ttl_pass_cmp': 9454, 'pct_pass_cmp': 67.0, 'pass_ttl_dist': 178791, 'ttl_pass_cmp_s': 4297, 'ttl_pass_att_s': 5327, 'pct_pass_cmp_s': 80.7, 'ttl_pass_cmp_m': 3306, 'ttl_pass_att_m': 4472, 'pct_pass_cmp_m': 73.9, 'ttl_pass_cmp_l': 1457, 'ttl_pass_att_l': 3216, 'pct_pass_cmp_l': 45.3, 'ttl_xa': 28.0, 'ttl_ast_xag_diff': -5.2, 'ttl_pass_prog': 972, 'pass_prog_ttl_dist': 80195, 'ttl_key_passes': 286, 'ttl_pass_fthird': 877, 'ttl_pass_opp_box': 240, 'ttl_cross_opp_box': 84}, 'passing_types': {'ttl_pass_live': 12275, 'ttl_pass_dead': 1731, 'ttl_pass_fk': 370, 'ttl_through_balls': 32, 'ttl_switches': 135, 'ttl_crosses': 747, 'ttl_pass_offside': 101, 'ttl_pass_blocked': 334, 'ttl_throw_ins': 783, 'ttl_ck': 183, 'ck_in_swinger': 152, 'ck_out_swinger': 14, 'ck_straight': 1}, 'gca': {'ttl_sca': 674, 'avg_sca': 17.74, 'ttl_pass_live_sca': 455, 'ttl_take_on_sca': 28, 'ttl_sh_sca': 50, 'ttl_fld_sca': 50, 'ttl_def_sca': 10, 'ttl_gca': 60, 'avg_gca': 1.58, 'ttl_pass_live_gca': 39, 'ttl_pass_dead_gca': 9, 'ttl_take_on_gca': 5, 'ttl_sh_gca': 3, 'ttl_fld_gca': 4, 'ttl_def_gca': 0}, 'defense': {'ttl_tkl': 590, 'ttl_tkl_won': 324, 'ttl_tkl_def_third': 273, 'ttl_tkl_mid_third': 235, 'ttl_tkl_att_third': 82, 'ttl_tkl_drb': 250, 'ttl_tkl_drb_att': 534, 'pct_tkl_drb_suc': 46.8, 'ttl_blocks': 509, 'ttl_sh_blocked': 211, 'ttl_int': 410, 'ttl_tkl_plus_int': 1000, 'ttl_clearances': 887, 'ttl_def_error': 18}, 'possession': {'avg_poss': '40.2', 'ttl_touches': 18371, 'ttl_touch_def_box': 2247, 'ttl_touch_def_third': 5842, 'ttl_touch_mid_third': 8051, 'ttl_touch_fthird': 4686, 'ttl_touch_opp_box': 663, 'ttl_touch_live': 18369, 'ttl_take_on_att': 479, 'ttl_take_on_suc': 258, 'pct_take_on_suc': 53.9, 'ttl_take_on_tkld': 221, 'pct_take_on_tkld': 46.1, 'ttl_carries': 8229, 'ttl_carries_dist': 42272, 'ttl_carries_prog_dist': 19061, 'ttl_carries_fthird': 300, 'ttl_carries_opp_box': 84, 'ttl_carries_miscontrolled': 540, 'ttl_carries_dispossessed': 291, 'ttl_pass_recvd': 9342, 'ttl_pass_prog_rcvd': 958}, 'playingtime': {'avg_age': 28.5, 'avg_min_starter': 86.0, 'ttl_subs': 96, 'avg_min_sub': 19.0}, 'misc': {'ttl_second_yellow_cards': 0, 'ttl_fls_ag': 394, 'ttl_fls_for': 332, 'ttl_offside': 101, 'ttl_pk_won': 2, 'ttl_pk_conceded': 5, 'ttl_og': 2, 'ttl_ball_recov': 2027, 'ttl_air_dual_won': 827, 'ttl_air_dual_lost': 733}}}, {'meta_data': {'team_id': 'cff3d9bb', 'team_name': 'Chelsea'}, 'stats': {'stats': {'roster_size': 26, 'matches_played': 38, 'ttl_gls': 75, 'ttl_ast': 52, 'ttl_non_pen_gls': 67, 'ttl_xg': 63.4, 'ttl_non_pen_xg': 56.6, 'ttl_xag': 44.9, 'ttl_pk_made': 8, 'ttl_pk_att': 9, 'ttl_yellow_cards': 63, 'ttl_red_cards': 1, 'ttl_carries_prog': 894, 'ttl_passes_prog': 1967, 'avg_gls': 1.97, 'avg_ast': 1.37, 'avg_non_pen_gls': 1.76, 'avg_xg': 1.67, 'avg_xag': 1.18, 'avg_non_pen_xg': 1.49}, 'keepers': {'ttl_gls_ag': 33, 'avg_gls_ag': 0.87, 'sot_ag': 115, 'ttl_saves': 83, 'save_pct': 76.5, 'clean_sheets': 16, 'clean_sheet_pct': 42.1, 'pk_att_ag': 6, 'pk_made_ag': 6, 'pk_saved': 0, 'pk_miss_ag': 0, 'pk_save_pct': 0.0}, 'keepersadv': {'ttl_pk_att_ag': 6, 'ttl_fk_gls_ag': 0, 'ttl_ck_gls_ag': 2, 'ttl_og_ag': 1, 'ttl_psxg': 31.6, 'psxg_per_sot': 0.22, 'ttl_launched_pass_cmp': 91, 'ttl_launched_pass_att': 222, 'pct_launched_pass_cmp': 41.0, 'ttl_pass_att': 892, 'ttl_throws_att': 183, 'pct_passes_launched': 19.1, 'avg_pass_len': 26.4, 'ttl_gk_att': 202, 'pct_gk_launch': 25.7, 'avg_gk_len': 24.9, 'ttl_crosses_faced': 419, 'ttl_crosses_stopped': 30, 'pct_crosses_stopped': 7.2, 'ttl_def_action_outside_box': 54, 'avg_def_action_outside_box': 1.42, 'avg_dist_def_action_outside_box': 18.8}, 'shooting': {'ttl_sh': 583, 'ttl_sot': 200, 'pct_sot': 34.3, 'avg_sh': 15.34, 'avg_sot': 5.26, 'gls_per_sh': 0.11, 'gls_per_sot': 0.34, 'avg_sh_dist': 17.4, 'ttl_fk_sh': 26, 'npxg_per_sh': 0.1, 'ttl_gls_xg_diff': 11.6, 'ttl_non_pen_gls_xg_diff': 10.4}, 'passing': {'ttl_pass_cmp': 21190, 'pct_pass_cmp': 85.1, 'pass_ttl_dist': 342325, 'ttl_pass_cmp_s': 10628, 'ttl_pass_att_s': 11617, 'pct_pass_cmp_s': 91.5, 'ttl_pass_cmp_m': 8318, 'ttl_pass_att_m': 9322, 'pct_pass_cmp_m': 89.2, 'ttl_pass_cmp_l': 1524, 'ttl_pass_att_l': 2514, 'pct_pass_cmp_l': 60.6, 'ttl_xa': 42.6, 'ttl_ast_xag_diff': 7.1, 'ttl_pass_prog': 1967, 'pass_prog_ttl_dist': 113085, 'ttl_key_passes': 439, 'ttl_pass_fthird': 1614, 'ttl_pass_opp_box': 437, 'ttl_cross_opp_box': 66}, 'passing_types': {'ttl_pass_live': 23158, 'ttl_pass_dead': 1661, 'ttl_pass_fk': 434, 'ttl_through_balls': 77, 'ttl_switches': 101, 'ttl_crosses': 745, 'ttl_pass_offside': 69, 'ttl_pass_blocked': 364, 'ttl_throw_ins': 713, 'ttl_ck': 241, 'ck_in_swinger': 113, 'ck_out_swinger': 100, 'ck_straight': 0}, 'gca': {'ttl_sca': 1064, 'avg_sca': 28.0, 'ttl_pass_live_sca': 818, 'ttl_take_on_sca': 48, 'ttl_sh_sca': 75, 'ttl_fld_sca': 49, 'ttl_def_sca': 12, 'ttl_gca': 135, 'avg_gca': 3.55, 'ttl_pass_live_gca': 97, 'ttl_pass_dead_gca': 9, 'ttl_take_on_gca': 8, 'ttl_sh_gca': 10, 'ttl_fld_gca': 9, 'ttl_def_gca': 2}, 'defense': {'ttl_tkl': 621, 'ttl_tkl_won': 348, 'ttl_tkl_def_third': 267, 'ttl_tkl_mid_third': 269, 'ttl_tkl_att_third': 85, 'ttl_tkl_drb': 257, 'ttl_tkl_drb_att': 567, 'pct_tkl_drb_suc': 45.3, 'ttl_blocks': 408, 'ttl_sh_blocked': 96, 'ttl_int': 347, 'ttl_tkl_plus_int': 968, 'ttl_clearances': 641, 'ttl_def_error': 15}, 'possession': {'avg_poss': '61.8', 'ttl_touches': 28975, 'ttl_touch_def_box': 2279, 'ttl_touch_def_third': 7926, 'ttl_touch_mid_third': 13385, 'ttl_touch_fthird': 7881, 'ttl_touch_opp_box': 1066, 'ttl_touch_live': 28966, 'ttl_take_on_att': 624, 'ttl_take_on_suc': 364, 'pct_take_on_suc': 58.3, 'ttl_take_on_tkld': 260, 'pct_take_on_tkld': 41.7, 'ttl_carries': 17090, 'ttl_carries_dist': 86187, 'ttl_carries_prog_dist': 46504, 'ttl_carries_fthird': 729, 'ttl_carries_opp_box': 243, 'ttl_carries_miscontrolled': 591, 'ttl_carries_dispossessed': 383, 'ttl_pass_recvd': 21040, 'ttl_pass_prog_rcvd': 1956}, 'playingtime': {'avg_age': 27.4, 'avg_min_starter': 84.0, 'ttl_subs': 111, 'avg_min_sub': 22.0}, 'misc': {'ttl_second_yellow_cards': 0, 'ttl_fls_ag': 409, 'ttl_fls_for': 392, 'ttl_offside': 69, 'ttl_pk_won': 8, 'ttl_pk_conceded': 6, 'ttl_og': 1, 'ttl_ball_recov': 2084, 'ttl_air_dual_won': 538, 'ttl_air_dual_lost': 486}}}, {'meta_data': {'team_id': '47c64c55', 'team_name': 'Crystal Palace'}, 'stats': {'stats': {'roster_size': 24, 'matches_played': 38, 'ttl_gls': 50, 'ttl_ast': 31, 'ttl_non_pen_gls': 44, 'ttl_xg': 46.4, 'ttl_non_pen_xg': 40.1, 'ttl_xag': 31.0, 'ttl_pk_made': 6, 'ttl_pk_att': 8, 'ttl_yellow_cards': 69, 'ttl_red_cards': 1, 'ttl_carries_prog': 592, 'ttl_passes_prog': 1229, 'avg_gls': 1.32, 'avg_ast': 0.82, 'avg_non_pen_gls': 1.16, 'avg_xg': 1.22, 'avg_xag': 0.82, 'avg_non_pen_xg': 1.06}, 'keepers': {'ttl_gls_ag': 46, 'avg_gls_ag': 1.21, 'sot_ag': 144, 'ttl_saves': 99, 'save_pct': 70.1, 'clean_sheets': 12, 'clean_sheet_pct': 31.6, 'pk_att_ag': 4, 'pk_made_ag': 3, 'pk_saved': 1, 'pk_miss_ag': 0, 'pk_save_pct': 25.0}, 'keepersadv': {'ttl_pk_att_ag': 3, 'ttl_fk_gls_ag': 2, 'ttl_ck_gls_ag': 11, 'ttl_og_ag': 2, 'ttl_psxg': 38.5, 'psxg_per_sot': 0.24, 'ttl_launched_pass_cmp': 130, 'ttl_launched_pass_att': 375, 'pct_launched_pass_cmp': 34.7, 'ttl_pass_att': 994, 'ttl_throws_att': 222, 'pct_passes_launched': 26.8, 'avg_pass_len': 29.8, 'ttl_gk_att': 272, 'pct_gk_launch': 40.1, 'avg_gk_len': 33.1, 'ttl_crosses_faced': 525, 'ttl_crosses_stopped': 28, 'pct_crosses_stopped': 5.3, 'ttl_def_action_outside_box': 43, 'avg_def_action_outside_box': 1.13, 'avg_dist_def_action_outside_box': 11.2}, 'shooting': {'ttl_sh': 404, 'ttl_sot': 140, 'pct_sot': 34.7, 'avg_sh': 10.63, 'avg_sot': 3.68, 'gls_per_sh': 0.11, 'gls_per_sot': 0.31, 'avg_sh_dist': 16.1, 'ttl_fk_sh': 13, 'npxg_per_sh': 0.1, 'ttl_gls_xg_diff': 3.6, 'ttl_non_pen_gls_xg_diff': 3.9}, 'passing': {'ttl_pass_cmp': 14983, 'pct_pass_cmp': 78.5, 'pass_ttl_dist': 265538, 'ttl_pass_cmp_s': 6553, 'ttl_pass_att_s': 7495, 'pct_pass_cmp_s': 87.4, 'ttl_pass_cmp_m': 6521, 'ttl_pass_att_m': 7610, 'pct_pass_cmp_m': 85.7, 'ttl_pass_cmp_l': 1467, 'ttl_pass_att_l': 2871, 'pct_pass_cmp_l': 51.1, 'ttl_xa': 30.2, 'ttl_ast_xag_diff': 0.0, 'ttl_pass_prog': 1229, 'pass_prog_ttl_dist': 92523, 'ttl_key_passes': 305, 'ttl_pass_fthird': 990, 'ttl_pass_opp_box': 270, 'ttl_cross_opp_box': 75}, 'passing_types': {'ttl_pass_live': 17115, 'ttl_pass_dead': 1903, 'ttl_pass_fk': 528, 'ttl_through_balls': 40, 'ttl_switches': 120, 'ttl_crosses': 643, 'ttl_pass_offside': 63, 'ttl_pass_blocked': 316, 'ttl_throw_ins': 844, 'ttl_ck': 175, 'ck_in_swinger': 88, 'ck_out_swinger': 44, 'ck_straight': 8}, 'gca': {'ttl_sca': 711, 'avg_sca': 18.71, 'ttl_pass_live_sca': 500, 'ttl_take_on_sca': 43, 'ttl_sh_sca': 46, 'ttl_fld_sca': 43, 'ttl_def_sca': 16, 'ttl_gca': 81, 'avg_gca': 2.13, 'ttl_pass_live_gca': 53, 'ttl_pass_dead_gca': 3, 'ttl_take_on_gca': 7, 'ttl_sh_gca': 8, 'ttl_fld_gca': 9, 'ttl_def_gca': 1}, 'defense': {'ttl_tkl': 637, 'ttl_tkl_won': 374, 'ttl_tkl_def_third': 323, 'ttl_tkl_mid_third': 236, 'ttl_tkl_att_third': 78, 'ttl_tkl_drb': 273, 'ttl_tkl_drb_att': 575, 'pct_tkl_drb_suc': 47.5, 'ttl_blocks': 452, 'ttl_sh_blocked': 135, 'ttl_int': 333, 'ttl_tkl_plus_int': 970, 'ttl_clearances': 761, 'ttl_def_error': 5}, 'possession': {'avg_poss': '51.1', 'ttl_touches': 23466, 'ttl_touch_def_box': 2753, 'ttl_touch_def_third': 8764, 'ttl_touch_mid_third': 9989, 'ttl_touch_fthird': 4943, 'ttl_touch_opp_box': 749, 'ttl_touch_live': 23458, 'ttl_take_on_att': 687, 'ttl_take_on_suc': 382, 'pct_take_on_suc': 55.6, 'ttl_take_on_tkld': 305, 'pct_take_on_tkld': 44.4, 'ttl_carries': 13129, 'ttl_carries_dist': 65928, 'ttl_carries_prog_dist': 33176, 'ttl_carries_fthird': 410, 'ttl_carries_opp_box': 149, 'ttl_carries_miscontrolled': 671, 'ttl_carries_dispossessed': 471, 'ttl_pass_recvd': 14878, 'ttl_pass_prog_rcvd': 1214}, 'playingtime': {'avg_age': 27.1, 'avg_min_starter': 85.0, 'ttl_subs': 108, 'avg_min_sub': 18.0}, 'misc': {'ttl_second_yellow_cards': 1, 'ttl_fls_ag': 414, 'ttl_fls_for': 481, 'ttl_offside': 63, 'ttl_pk_won': 6, 'ttl_pk_conceded': 4, 'ttl_og': 2, 'ttl_ball_recov': 2103, 'ttl_air_dual_won': 610, 'ttl_air_dual_lost': 618}}}, {'meta_data': {'team_id': 'd3fd31cc', 'team_name': 'Everton'}, 'stats': {'stats': {'roster_size': 33, 'matches_played': 38, 'ttl_gls': 42, 'ttl_ast': 29, 'ttl_non_pen_gls': 36, 'ttl_xg': 41.2, 'ttl_non_pen_xg': 35.8, 'ttl_xag': 28.5, 'ttl_pk_made': 6, 'ttl_pk_att': 7, 'ttl_yellow_cards': 82, 'ttl_red_cards': 6, 'ttl_carries_prog': 512, 'ttl_passes_prog': 1100, 'avg_gls': 1.11, 'avg_ast': 0.76, 'avg_non_pen_gls': 0.95, 'avg_xg': 1.09, 'avg_xag': 0.75, 'avg_non_pen_xg': 0.94}, 'keepers': {'ttl_gls_ag': 66, 'avg_gls_ag': 1.74, 'sot_ag': 188, 'ttl_saves': 127, 'save_pct': 66.0, 'clean_sheets': 8, 'clean_sheet_pct': 21.1, 'pk_att_ag': 2, 'pk_made_ag': 2, 'pk_saved': 0, 'pk_miss_ag': 0, 'pk_save_pct': 0.0}, 'keepersadv': {'ttl_pk_att_ag': 2, 'ttl_fk_gls_ag': 2, 'ttl_ck_gls_ag': 13, 'ttl_og_ag': 5, 'ttl_psxg': 55.9, 'psxg_per_sot': 0.29, 'ttl_launched_pass_cmp': 292, 'ttl_launched_pass_att': 844, 'pct_launched_pass_cmp': 34.6, 'ttl_pass_att': 927, 'ttl_throws_att': 124, 'pct_passes_launched': 65.2, 'avg_pass_len': 48.9, 'ttl_gk_att': 298, 'pct_gk_launch': 80.5, 'avg_gk_len': 59.5, 'ttl_crosses_faced': 568, 'ttl_crosses_stopped': 26, 'pct_crosses_stopped': 4.6, 'ttl_def_action_outside_box': 37, 'avg_def_action_outside_box': 0.97, 'avg_dist_def_action_outside_box': 10.7}, 'shooting': {'ttl_sh': 430, 'ttl_sot': 130, 'pct_sot': 30.2, 'avg_sh': 11.32, 'avg_sot': 3.42, 'gls_per_sh': 0.08, 'gls_per_sot': 0.28, 'avg_sh_dist': 17.7, 'ttl_fk_sh': 18, 'npxg_per_sh': 0.08, 'ttl_gls_xg_diff': 0.8, 'ttl_non_pen_gls_xg_diff': 0.2}, 'passing': {'ttl_pass_cmp': 10366, 'pct_pass_cmp': 71.2, 'pass_ttl_dist': 184813, 'ttl_pass_cmp_s': 4889, 'ttl_pass_att_s': 5859, 'pct_pass_cmp_s': 83.4, 'ttl_pass_cmp_m': 3844, 'ttl_pass_att_m': 4901, 'pct_pass_cmp_m': 78.4, 'ttl_pass_cmp_l': 1215, 'ttl_pass_att_l': 2704, 'pct_pass_cmp_l': 44.9, 'ttl_xa': 25.1, 'ttl_ast_xag_diff': 0.5, 'ttl_pass_prog': 1100, 'pass_prog_ttl_dist': 76163, 'ttl_key_passes': 323, 'ttl_pass_fthird': 898, 'ttl_pass_opp_box': 255, 'ttl_cross_opp_box': 77}, 'passing_types': {'ttl_pass_live': 12746, 'ttl_pass_dead': 1758, 'ttl_pass_fk': 413, 'ttl_through_balls': 30, 'ttl_switches': 70, 'ttl_crosses': 653, 'ttl_pass_offside': 53, 'ttl_pass_blocked': 345, 'ttl_throw_ins': 783, 'ttl_ck': 161, 'ck_in_swinger': 83, 'ck_out_swinger': 60, 'ck_straight': 0}, 'gca': {'ttl_sca': 742, 'avg_sca': 19.53, 'ttl_pass_live_sca': 533, 'ttl_take_on_sca': 43, 'ttl_sh_sca': 42, 'ttl_fld_sca': 45, 'ttl_def_sca': 10, 'ttl_gca': 68, 'avg_gca': 1.79, 'ttl_pass_live_gca': 46, 'ttl_pass_dead_gca': 4, 'ttl_take_on_gca': 4, 'ttl_sh_gca': 6, 'ttl_fld_gca': 8, 'ttl_def_gca': 0}, 'defense': {'ttl_tkl': 705, 'ttl_tkl_won': 402, 'ttl_tkl_def_third': 369, 'ttl_tkl_mid_third': 252, 'ttl_tkl_att_third': 84, 'ttl_tkl_drb': 336, 'ttl_tkl_drb_att': 735, 'pct_tkl_drb_suc': 45.7, 'ttl_blocks': 496, 'ttl_sh_blocked': 140, 'ttl_int': 365, 'ttl_tkl_plus_int': 1070, 'ttl_clearances': 815, 'ttl_def_error': 15}, 'possession': {'avg_poss': '40.0', 'ttl_touches': 19075, 'ttl_touch_def_box': 2289, 'ttl_touch_def_third': 6394, 'ttl_touch_mid_third': 7899, 'ttl_touch_fthird': 5013, 'ttl_touch_opp_box': 728, 'ttl_touch_live': 19068, 'ttl_take_on_att': 634, 'ttl_take_on_suc': 337, 'pct_take_on_suc': 53.2, 'ttl_take_on_tkld': 295, 'pct_take_on_tkld': 46.5, 'ttl_carries': 9422, 'ttl_carries_dist': 53443, 'ttl_carries_prog_dist': 25599, 'ttl_carries_fthird': 388, 'ttl_carries_opp_box': 143, 'ttl_carries_miscontrolled': 640, 'ttl_carries_dispossessed': 325, 'ttl_pass_recvd': 10276, 'ttl_pass_prog_rcvd': 1086}, 'playingtime': {'avg_age': 26.7, 'avg_min_starter': 85.0, 'ttl_subs': 97, 'avg_min_sub': 21.0}, 'misc': {'ttl_second_yellow_cards': 2, 'ttl_fls_ag': 368, 'ttl_fls_for': 388, 'ttl_offside': 53, 'ttl_pk_won': 7, 'ttl_pk_conceded': 2, 'ttl_og': 5, 'ttl_ball_recov': 2023, 'ttl_air_dual_won': 634, 'ttl_air_dual_lost': 725}}}, {'meta_data': {'team_id': '5bfb9659', 'team_name': 'Leeds United'}, 'stats': {'stats': {'roster_size': 29, 'matches_played': 38, 'ttl_gls': 42, 'ttl_ast': 26, 'ttl_non_pen_gls': 37, 'ttl_xg': 44.4, 'ttl_non_pen_xg': 40.4, 'ttl_xag': 31.3, 'ttl_pk_made': 5, 'ttl_pk_att': 5, 'ttl_yellow_cards': 101, 'ttl_red_cards': 3, 'ttl_carries_prog': 671, 'ttl_passes_prog': 1483, 'avg_gls': 1.11, 'avg_ast': 0.68, 'avg_non_pen_gls': 0.97, 'avg_xg': 1.17, 'avg_xag': 0.82, 'avg_non_pen_xg': 1.06}, 'keepers': {'ttl_gls_ag': 79, 'avg_gls_ag': 2.08, 'sot_ag': 224, 'ttl_saves': 146, 'save_pct': 67.0, 'clean_sheets': 5, 'clean_sheet_pct': 13.2, 'pk_att_ag': 5, 'pk_made_ag': 5, 'pk_saved': 0, 'pk_miss_ag': 0, 'pk_save_pct': 0.0}, 'keepersadv': {'ttl_pk_att_ag': 5, 'ttl_fk_gls_ag': 3, 'ttl_ck_gls_ag': 10, 'ttl_og_ag': 1, 'ttl_psxg': 62.4, 'psxg_per_sot': 0.26, 'ttl_launched_pass_cmp': 109, 'ttl_launched_pass_att': 413, 'pct_launched_pass_cmp': 26.4, 'ttl_pass_att': 1108, 'ttl_throws_att': 276, 'pct_passes_launched': 27.5, 'avg_pass_len': 30.4, 'ttl_gk_att': 292, 'pct_gk_launch': 37.0, 'avg_gk_len': 33.2, 'ttl_crosses_faced': 445, 'ttl_crosses_stopped': 23, 'pct_crosses_stopped': 5.2, 'ttl_def_action_outside_box': 47, 'avg_def_action_outside_box': 1.24, 'avg_dist_def_action_outside_box': 23.7}, 'shooting': {'ttl_sh': 480, 'ttl_sot': 142, 'pct_sot': 29.6, 'avg_sh': 12.63, 'avg_sot': 3.74, 'gls_per_sh': 0.08, 'gls_per_sot': 0.26, 'avg_sh_dist': 18.3, 'ttl_fk_sh': 13, 'npxg_per_sh': 0.09, 'ttl_gls_xg_diff': -2.4, 'ttl_non_pen_gls_xg_diff': -3.4}, 'passing': {'ttl_pass_cmp': 13989, 'pct_pass_cmp': 76.5, 'pass_ttl_dist': 242664, 'ttl_pass_cmp_s': 6271, 'ttl_pass_att_s': 7285, 'pct_pass_cmp_s': 86.1, 'ttl_pass_cmp_m': 5921, 'ttl_pass_att_m': 7050, 'pct_pass_cmp_m': 84.0, 'ttl_pass_cmp_l': 1325, 'ttl_pass_att_l': 2754, 'pct_pass_cmp_l': 48.1, 'ttl_xa': 25.1, 'ttl_ast_xag_diff': -5.3, 'ttl_pass_prog': 1483, 'pass_prog_ttl_dist': 89161, 'ttl_key_passes': 347, 'ttl_pass_fthird': 995, 'ttl_pass_opp_box': 272, 'ttl_cross_opp_box': 53}, 'passing_types': {'ttl_pass_live': 16432, 'ttl_pass_dead': 1793, 'ttl_pass_fk': 417, 'ttl_through_balls': 66, 'ttl_switches': 140, 'ttl_crosses': 648, 'ttl_pass_offside': 63, 'ttl_pass_blocked': 368, 'ttl_throw_ins': 798, 'ttl_ck': 170, 'ck_in_swinger': 100, 'ck_out_swinger': 38, 'ck_straight': 3}, 'gca': {'ttl_sca': 825, 'avg_sca': 21.71, 'ttl_pass_live_sca': 589, 'ttl_take_on_sca': 52, 'ttl_sh_sca': 60, 'ttl_fld_sca': 42, 'ttl_def_sca': 14, 'ttl_gca': 66, 'avg_gca': 1.74, 'ttl_pass_live_gca': 36, 'ttl_pass_dead_gca': 2, 'ttl_take_on_gca': 10, 'ttl_sh_gca': 10, 'ttl_fld_gca': 5, 'ttl_def_gca': 3}, 'defense': {'ttl_tkl': 787, 'ttl_tkl_won': 437, 'ttl_tkl_def_third': 396, 'ttl_tkl_mid_third': 298, 'ttl_tkl_att_third': 93, 'ttl_tkl_drb': 408, 'ttl_tkl_drb_att': 886, 'pct_tkl_drb_suc': 46.0, 'ttl_blocks': 473, 'ttl_sh_blocked': 143, 'ttl_int': 395, 'ttl_tkl_plus_int': 1182, 'ttl_clearances': 621, 'ttl_def_error': 15}, 'possession': {'avg_poss': '52.3', 'ttl_touches': 22705, 'ttl_touch_def_box': 2608, 'ttl_touch_def_third': 8521, 'ttl_touch_mid_third': 9502, 'ttl_touch_fthird': 4919, 'ttl_touch_opp_box': 789, 'ttl_touch_live': 22700, 'ttl_take_on_att': 655, 'ttl_take_on_suc': 339, 'pct_take_on_suc': 51.8, 'ttl_take_on_tkld': 316, 'pct_take_on_tkld': 48.2, 'ttl_carries': 12260, 'ttl_carries_dist': 67099, 'ttl_carries_prog_dist': 36354, 'ttl_carries_fthird': 412, 'ttl_carries_opp_box': 170, 'ttl_carries_miscontrolled': 676, 'ttl_carries_dispossessed': 298, 'ttl_pass_recvd': 13865, 'ttl_pass_prog_rcvd': 1467}, 'playingtime': {'avg_age': 26.1, 'avg_min_starter': 82.0, 'ttl_subs': 106, 'avg_min_sub': 29.0}, 'misc': {'ttl_second_yellow_cards': 0, 'ttl_fls_ag': 469, 'ttl_fls_for': 368, 'ttl_offside': 63, 'ttl_pk_won': 4, 'ttl_pk_conceded': 5, 'ttl_og': 1, 'ttl_ball_recov': 2260, 'ttl_air_dual_won': 470, 'ttl_air_dual_lost': 626}}}, {'meta_data': {'team_id': 'a2d435b3', 'team_name': 'Leicester City'}, 'stats': {'stats': {'roster_size': 28, 'matches_played': 38, 'ttl_gls': 62, 'ttl_ast': 46, 'ttl_non_pen_gls': 60, 'ttl_xg': 47.8, 'ttl_non_pen_xg': 46.2, 'ttl_xag': 34.2, 'ttl_pk_made': 2, 'ttl_pk_att': 2, 'ttl_yellow_cards': 55, 'ttl_red_cards': 1, 'ttl_carries_prog': 622, 'ttl_passes_prog': 1356, 'avg_gls': 1.63, 'avg_ast': 1.21, 'avg_non_pen_gls': 1.58, 'avg_xg': 1.26, 'avg_xag': 0.9, 'avg_non_pen_xg': 1.22}, 'keepers': {'ttl_gls_ag': 59, 'avg_gls_ag': 1.55, 'sot_ag': 192, 'ttl_saves': 132, 'save_pct': 72.9, 'clean_sheets': 7, 'clean_sheet_pct': 18.4, 'pk_att_ag': 9, 'pk_made_ag': 7, 'pk_saved': 2, 'pk_miss_ag': 0, 'pk_save_pct': 22.2}, 'keepersadv': {'ttl_pk_att_ag': 7, 'ttl_fk_gls_ag': 1, 'ttl_ck_gls_ag': 15, 'ttl_og_ag': 1, 'ttl_psxg': 56.9, 'psxg_per_sot': 0.26, 'ttl_launched_pass_cmp': 196, 'ttl_launched_pass_att': 491, 'pct_launched_pass_cmp': 39.9, 'ttl_pass_att': 1021, 'ttl_throws_att': 174, 'pct_passes_launched': 35.7, 'avg_pass_len': 25.8, 'ttl_gk_att': 302, 'pct_gk_launch': 41.7, 'avg_gk_len': 36.7, 'ttl_crosses_faced': 551, 'ttl_crosses_stopped': 16, 'pct_crosses_stopped': 2.9, 'ttl_def_action_outside_box': 39, 'avg_def_action_outside_box': 1.03, 'avg_dist_def_action_outside_box': 10.7}, 'shooting': {'ttl_sh': 433, 'ttl_sot': 164, 'pct_sot': 37.9, 'avg_sh': 11.39, 'avg_sot': 4.32, 'gls_per_sh': 0.14, 'gls_per_sot': 0.37, 'avg_sh_dist': 17.8, 'ttl_fk_sh': 14, 'npxg_per_sh': 0.11, 'ttl_gls_xg_diff': 14.2, 'ttl_non_pen_gls_xg_diff': 13.8}, 'passing': {'ttl_pass_cmp': 16129, 'pct_pass_cmp': 80.1, 'pass_ttl_dist': 269547, 'ttl_pass_cmp_s': 7751, 'ttl_pass_att_s': 8789, 'pct_pass_cmp_s': 88.2, 'ttl_pass_cmp_m': 6573, 'ttl_pass_att_m': 7579, 'pct_pass_cmp_m': 86.7, 'ttl_pass_cmp_l': 1329, 'ttl_pass_att_l': 2581, 'pct_pass_cmp_l': 51.5, 'ttl_xa': 26.9, 'ttl_ast_xag_diff': 11.8, 'ttl_pass_prog': 1356, 'pass_prog_ttl_dist': 94214, 'ttl_key_passes': 312, 'ttl_pass_fthird': 1025, 'ttl_pass_opp_box': 254, 'ttl_cross_opp_box': 57}, 'passing_types': {'ttl_pass_live': 18268, 'ttl_pass_dead': 1809, 'ttl_pass_fk': 457, 'ttl_through_balls': 65, 'ttl_switches': 105, 'ttl_crosses': 556, 'ttl_pass_offside': 60, 'ttl_pass_blocked': 379, 'ttl_throw_ins': 769, 'ttl_ck': 185, 'ck_in_swinger': 113, 'ck_out_swinger': 42, 'ck_straight': 2}, 'gca': {'ttl_sca': 745, 'avg_sca': 19.61, 'ttl_pass_live_sca': 566, 'ttl_take_on_sca': 48, 'ttl_sh_sca': 42, 'ttl_fld_sca': 33, 'ttl_def_sca': 15, 'ttl_gca': 105, 'avg_gca': 2.76, 'ttl_pass_live_gca': 81, 'ttl_pass_dead_gca': 3, 'ttl_take_on_gca': 4, 'ttl_sh_gca': 8, 'ttl_fld_gca': 5, 'ttl_def_gca': 4}, 'defense': {'ttl_tkl': 690, 'ttl_tkl_won': 384, 'ttl_tkl_def_third': 336, 'ttl_tkl_mid_third': 270, 'ttl_tkl_att_third': 84, 'ttl_tkl_drb': 306, 'ttl_tkl_drb_att': 720, 'pct_tkl_drb_suc': 42.5, 'ttl_blocks': 469, 'ttl_sh_blocked': 146, 'ttl_int': 367, 'ttl_tkl_plus_int': 1057, 'ttl_clearances': 777, 'ttl_def_error': 15}, 'possession': {'avg_poss': '52.0', 'ttl_touches': 24409, 'ttl_touch_def_box': 2771, 'ttl_touch_def_third': 8575, 'ttl_touch_mid_third': 11067, 'ttl_touch_fthird': 4962, 'ttl_touch_opp_box': 746, 'ttl_touch_live': 24407, 'ttl_take_on_att': 547, 'ttl_take_on_suc': 297, 'pct_take_on_suc': 54.3, 'ttl_take_on_tkld': 250, 'pct_take_on_tkld': 45.7, 'ttl_carries': 13897, 'ttl_carries_dist': 68708, 'ttl_carries_prog_dist': 34763, 'ttl_carries_fthird': 467, 'ttl_carries_opp_box': 157, 'ttl_carries_miscontrolled': 601, 'ttl_carries_dispossessed': 368, 'ttl_pass_recvd': 16036, 'ttl_pass_prog_rcvd': 1351}, 'playingtime': {'avg_age': 26.5, 'avg_min_starter': 84.0, 'ttl_subs': 109, 'avg_min_sub': 23.0}, 'misc': {'ttl_second_yellow_cards': 0, 'ttl_fls_ag': 356, 'ttl_fls_for': 396, 'ttl_offside': 60, 'ttl_pk_won': 1, 'ttl_pk_conceded': 9, 'ttl_og': 1, 'ttl_ball_recov': 2015, 'ttl_air_dual_won': 530, 'ttl_air_dual_lost': 553}}}, {'meta_data': {'team_id': '822bd0ba', 'team_name': 'Liverpool'}, 'stats': {'stats': {'roster_size': 27, 'matches_played': 38, 'ttl_gls': 94, 'ttl_ast': 71, 'ttl_non_pen_gls': 87, 'ttl_xg': 88.7, 'ttl_non_pen_xg': 82.7, 'ttl_xag': 63.5, 'ttl_pk_made': 7, 'ttl_pk_att': 8, 'ttl_yellow_cards': 50, 'ttl_red_cards': 1, 'ttl_carries_prog': 885, 'ttl_passes_prog': 2243, 'avg_gls': 2.47, 'avg_ast': 1.87, 'avg_non_pen_gls': 2.29, 'avg_xg': 2.33, 'avg_xag': 1.67, 'avg_non_pen_xg': 2.18}, 'keepers': {'ttl_gls_ag': 26, 'avg_gls_ag': 0.68, 'sot_ag': 107, 'ttl_saves': 82, 'save_pct': 75.7, 'clean_sheets': 21, 'clean_sheet_pct': 55.3, 'pk_att_ag': 0, 'pk_made_ag': 0, 'pk_saved': 0, 'pk_miss_ag': 0, 'pk_save_pct': None}, 'keepersadv': {'ttl_pk_att_ag': 0, 'ttl_fk_gls_ag': 0, 'ttl_ck_gls_ag': 3, 'ttl_og_ag': 1, 'ttl_psxg': 26.6, 'psxg_per_sot': 0.26, 'ttl_launched_pass_cmp': 116, 'ttl_launched_pass_att': 268, 'pct_launched_pass_cmp': 43.3, 'ttl_pass_att': 1294, 'ttl_throws_att': 224, 'pct_passes_launched': 16.2, 'avg_pass_len': 22.7, 'ttl_gk_att': 185, 'pct_gk_launch': 31.4, 'avg_gk_len': 32.7, 'ttl_crosses_faced': 360, 'ttl_crosses_stopped': 22, 'pct_crosses_stopped': 6.1, 'ttl_def_action_outside_box': 92, 'avg_def_action_outside_box': 2.42, 'avg_dist_def_action_outside_box': 17.1}, 'shooting': {'ttl_sh': 721, 'ttl_sot': 237, 'pct_sot': 32.9, 'avg_sh': 18.97, 'avg_sot': 6.24, 'gls_per_sh': 0.12, 'gls_per_sot': 0.37, 'avg_sh_dist': 16.7, 'ttl_fk_sh': 13, 'npxg_per_sh': 0.12, 'ttl_gls_xg_diff': 5.3, 'ttl_non_pen_gls_xg_diff': 4.3}, 'passing': {'ttl_pass_cmp': 21163, 'pct_pass_cmp': 82.8, 'pass_ttl_dist': 370621, 'ttl_pass_cmp_s': 9420, 'ttl_pass_att_s': 10506, 'pct_pass_cmp_s': 89.7, 'ttl_pass_cmp_m': 9245, 'ttl_pass_att_m': 10569, 'pct_pass_cmp_m': 87.5, 'ttl_pass_cmp_l': 2000, 'ttl_pass_att_l': 3211, 'pct_pass_cmp_l': 62.3, 'ttl_xa': 56.2, 'ttl_ast_xag_diff': 7.5, 'ttl_pass_prog': 2243, 'pass_prog_ttl_dist': 127087, 'ttl_key_passes': 527, 'ttl_pass_fthird': 1878, 'ttl_pass_opp_box': 511, 'ttl_cross_opp_box': 92}, 'passing_types': {'ttl_pass_live': 23742, 'ttl_pass_dead': 1747, 'ttl_pass_fk': 436, 'ttl_through_balls': 112, 'ttl_switches': 167, 'ttl_crosses': 897, 'ttl_pass_offside': 63, 'ttl_pass_blocked': 374, 'ttl_throw_ins': 780, 'ttl_ck': 282, 'ck_in_swinger': 47, 'ck_out_swinger': 207, 'ck_straight': 0}, 'gca': {'ttl_sca': 1249, 'avg_sca': 32.87, 'ttl_pass_live_sca': 912, 'ttl_take_on_sca': 63, 'ttl_sh_sca': 104, 'ttl_fld_sca': 49, 'ttl_def_sca': 16, 'ttl_gca': 163, 'avg_gca': 4.29, 'ttl_pass_live_gca': 121, 'ttl_pass_dead_gca': 9, 'ttl_take_on_gca': 9, 'ttl_sh_gca': 19, 'ttl_fld_gca': 5, 'ttl_def_gca': 0}, 'defense': {'ttl_tkl': 554, 'ttl_tkl_won': 320, 'ttl_tkl_def_third': 207, 'ttl_tkl_mid_third': 240, 'ttl_tkl_att_third': 107, 'ttl_tkl_drb': 233, 'ttl_tkl_drb_att': 576, 'pct_tkl_drb_suc': 40.5, 'ttl_blocks': 359, 'ttl_sh_blocked': 74, 'ttl_int': 340, 'ttl_tkl_plus_int': 894, 'ttl_clearances': 523, 'ttl_def_error': 8}, 'possession': {'avg_poss': '62.7', 'ttl_touches': 29575, 'ttl_touch_def_box': 2130, 'ttl_touch_def_third': 7195, 'ttl_touch_mid_third': 14176, 'ttl_touch_fthird': 8419, 'ttl_touch_opp_box': 1377, 'ttl_touch_live': 29567, 'ttl_take_on_att': 635, 'ttl_take_on_suc': 343, 'pct_take_on_suc': 54.0, 'ttl_take_on_tkld': 291, 'pct_take_on_tkld': 45.8, 'ttl_carries': 17262, 'ttl_carries_dist': 84190, 'ttl_carries_prog_dist': 45325, 'ttl_carries_fthird': 672, 'ttl_carries_opp_box': 290, 'ttl_carries_miscontrolled': 590, 'ttl_carries_dispossessed': 366, 'ttl_pass_recvd': 21042, 'ttl_pass_prog_rcvd': 2227}, 'playingtime': {'avg_age': 27.7, 'avg_min_starter': 85.0, 'ttl_subs': 111, 'avg_min_sub': 19.0}, 'misc': {'ttl_second_yellow_cards': 0, 'ttl_fls_ag': 363, 'ttl_fls_for': 286, 'ttl_offside': 63, 'ttl_pk_won': 5, 'ttl_pk_conceded': 0, 'ttl_og': 1, 'ttl_ball_recov': 2265, 'ttl_air_dual_won': 571, 'ttl_air_dual_lost': 467}}}, {'meta_data': {'team_id': 'b8fd03ef', 'team_name': 'Manchester City'}, 'stats': {'stats': {'roster_size': 26, 'matches_played': 38, 'ttl_gls': 96, 'ttl_ast': 63, 'ttl_non_pen_gls': 89, 'ttl_xg': 88.7, 'ttl_non_pen_xg': 81.4, 'ttl_xag': 65.5, 'ttl_pk_made': 7, 'ttl_pk_att': 9, 'ttl_yellow_cards': 42, 'ttl_red_cards': 1, 'ttl_carries_prog': 1145, 'ttl_passes_prog': 2421, 'avg_gls': 2.53, 'avg_ast': 1.66, 'avg_non_pen_gls': 2.34, 'avg_xg': 2.33, 'avg_xag': 1.72, 'avg_non_pen_xg': 2.14}, 'keepers': {'ttl_gls_ag': 26, 'avg_gls_ag': 0.68, 'sot_ag': 85, 'ttl_saves': 59, 'save_pct': 70.6, 'clean_sheets': 21, 'clean_sheet_pct': 55.3, 'pk_att_ag': 1, 'pk_made_ag': 1, 'pk_saved': 0, 'pk_miss_ag': 0, 'pk_save_pct': 0.0}, 'keepersadv': {'ttl_pk_att_ag': 1, 'ttl_fk_gls_ag': 0, 'ttl_ck_gls_ag': 1, 'ttl_og_ag': 0, 'ttl_psxg': 25.8, 'psxg_per_sot': 0.29, 'ttl_launched_pass_cmp': 88, 'ttl_launched_pass_att': 188, 'pct_launched_pass_cmp': 46.8, 'ttl_pass_att': 1018, 'ttl_throws_att': 171, 'pct_passes_launched': 15.7, 'avg_pass_len': 23.4, 'ttl_gk_att': 147, 'pct_gk_launch': 19.0, 'avg_gk_len': 26.2, 'ttl_crosses_faced': 310, 'ttl_crosses_stopped': 21, 'pct_crosses_stopped': 6.8, 'ttl_def_action_outside_box': 58, 'avg_def_action_outside_box': 1.53, 'avg_dist_def_action_outside_box': 16.6}, 'shooting': {'ttl_sh': 704, 'ttl_sot': 237, 'pct_sot': 33.7, 'avg_sh': 18.53, 'avg_sot': 6.24, 'gls_per_sh': 0.13, 'gls_per_sot': 0.38, 'avg_sh_dist': 16.3, 'ttl_fk_sh': 17, 'npxg_per_sh': 0.12, 'ttl_gls_xg_diff': 7.3, 'ttl_non_pen_gls_xg_diff': 7.6}, 'passing': {'ttl_pass_cmp': 24406, 'pct_pass_cmp': 87.5, 'pass_ttl_dist': 412596, 'ttl_pass_cmp_s': 11713, 'ttl_pass_att_s': 12605, 'pct_pass_cmp_s': 92.9, 'ttl_pass_cmp_m': 10158, 'ttl_pass_att_m': 11162, 'pct_pass_cmp_m': 91.0, 'ttl_pass_cmp_l': 1972, 'ttl_pass_att_l': 2895, 'pct_pass_cmp_l': 68.1, 'ttl_xa': 57.1, 'ttl_ast_xag_diff': -2.5, 'ttl_pass_prog': 2421, 'pass_prog_ttl_dist': 117964, 'ttl_key_passes': 536, 'ttl_pass_fthird': 2110, 'ttl_pass_opp_box': 535, 'ttl_cross_opp_box': 74}, 'passing_types': {'ttl_pass_live': 26239, 'ttl_pass_dead': 1597, 'ttl_pass_fk': 406, 'ttl_through_balls': 102, 'ttl_switches': 192, 'ttl_crosses': 869, 'ttl_pass_offside': 66, 'ttl_pass_blocked': 355, 'ttl_throw_ins': 664, 'ttl_ck': 316, 'ck_in_swinger': 154, 'ck_out_swinger': 50, 'ck_straight': 4}, 'gca': {'ttl_sca': 1286, 'avg_sca': 33.84, 'ttl_pass_live_sca': 997, 'ttl_take_on_sca': 70, 'ttl_sh_sca': 88, 'ttl_fld_sca': 42, 'ttl_def_sca': 11, 'ttl_gca': 158, 'avg_gca': 4.16, 'ttl_pass_live_gca': 112, 'ttl_pass_dead_gca': 10, 'ttl_take_on_gca': 6, 'ttl_sh_gca': 19, 'ttl_fld_gca': 8, 'ttl_def_gca': 3}, 'defense': {'ttl_tkl': 498, 'ttl_tkl_won': 284, 'ttl_tkl_def_third': 183, 'ttl_tkl_mid_third': 214, 'ttl_tkl_att_third': 101, 'ttl_tkl_drb': 227, 'ttl_tkl_drb_att': 509, 'pct_tkl_drb_suc': 44.6, 'ttl_blocks': 267, 'ttl_sh_blocked': 55, 'ttl_int': 279, 'ttl_tkl_plus_int': 777, 'ttl_clearances': 403, 'ttl_def_error': 7}, 'possession': {'avg_poss': '67.9', 'ttl_touches': 31381, 'ttl_touch_def_box': 1837, 'ttl_touch_def_third': 6566, 'ttl_touch_mid_third': 15281, 'ttl_touch_fthird': 9729, 'ttl_touch_opp_box': 1499, 'ttl_touch_live': 31372, 'ttl_take_on_att': 741, 'ttl_take_on_suc': 425, 'pct_take_on_suc': 57.4, 'ttl_take_on_tkld': 316, 'pct_take_on_tkld': 42.6, 'ttl_carries': 21064, 'ttl_carries_dist': 110018, 'ttl_carries_prog_dist': 61200, 'ttl_carries_fthird': 840, 'ttl_carries_opp_box': 386, 'ttl_carries_miscontrolled': 497, 'ttl_carries_dispossessed': 316, 'ttl_pass_recvd': 24212, 'ttl_pass_prog_rcvd': 2402}, 'playingtime': {'avg_age': 27.0, 'avg_min_starter': 86.0, 'ttl_subs': 79, 'avg_min_sub': 20.0}, 'misc': {'ttl_second_yellow_cards': 0, 'ttl_fls_ag': 321, 'ttl_fls_for': 330, 'ttl_offside': 66, 'ttl_pk_won': 7, 'ttl_pk_conceded': 1, 'ttl_og': 0, 'ttl_ball_recov': 1967, 'ttl_air_dual_won': 482, 'ttl_air_dual_lost': 397}}}, {'meta_data': {'team_id': '19538871', 'team_name': 'Manchester Utd'}, 'stats': {'stats': {'roster_size': 29, 'matches_played': 38, 'ttl_gls': 56, 'ttl_ast': 46, 'ttl_non_pen_gls': 53, 'ttl_xg': 55.8, 'ttl_non_pen_xg': 51.9, 'ttl_xag': 42.5, 'ttl_pk_made': 3, 'ttl_pk_att': 5, 'ttl_yellow_cards': 77, 'ttl_red_cards': 2, 'ttl_carries_prog': 784, 'ttl_passes_prog': 1568, 'avg_gls': 1.47, 'avg_ast': 1.21, 'avg_non_pen_gls': 1.39, 'avg_xg': 1.47, 'avg_xag': 1.12, 'avg_non_pen_xg': 1.36}, 'keepers': {'ttl_gls_ag': 57, 'avg_gls_ag': 1.5, 'sot_ag': 180, 'ttl_saves': 124, 'save_pct': 70.0, 'clean_sheets': 8, 'clean_sheet_pct': 21.1, 'pk_att_ag': 5, 'pk_made_ag': 3, 'pk_saved': 2, 'pk_miss_ag': 0, 'pk_save_pct': 40.0}, 'keepersadv': {'ttl_pk_att_ag': 3, 'ttl_fk_gls_ag': 0, 'ttl_ck_gls_ag': 4, 'ttl_og_ag': 3, 'ttl_psxg': 55.1, 'psxg_per_sot': 0.29, 'ttl_launched_pass_cmp': 103, 'ttl_launched_pass_att': 315, 'pct_launched_pass_cmp': 32.7, 'ttl_pass_att': 623, 'ttl_throws_att': 134, 'pct_passes_launched': 30.0, 'avg_pass_len': 30.9, 'ttl_gk_att': 299, 'pct_gk_launch': 42.8, 'avg_gk_len': 35.9, 'ttl_crosses_faced': 525, 'ttl_crosses_stopped': 8, 'pct_crosses_stopped': 1.5, 'ttl_def_action_outside_box': 25, 'avg_def_action_outside_box': 0.66, 'avg_dist_def_action_outside_box': 14.0}, 'shooting': {'ttl_sh': 503, 'ttl_sot': 179, 'pct_sot': 35.6, 'avg_sh': 13.24, 'avg_sot': 4.71, 'gls_per_sh': 0.11, 'gls_per_sot': 0.3, 'avg_sh_dist': 17.7, 'ttl_fk_sh': 19, 'npxg_per_sh': 0.11, 'ttl_gls_xg_diff': 0.2, 'ttl_non_pen_gls_xg_diff': 1.1}, 'passing': {'ttl_pass_cmp': 16690, 'pct_pass_cmp': 80.9, 'pass_ttl_dist': 280259, 'ttl_pass_cmp_s': 8162, 'ttl_pass_att_s': 9234, 'pct_pass_cmp_s': 88.4, 'ttl_pass_cmp_m': 6398, 'ttl_pass_att_m': 7436, 'pct_pass_cmp_m': 86.0, 'ttl_pass_cmp_l': 1548, 'ttl_pass_att_l': 2626, 'pct_pass_cmp_l': 58.9, 'ttl_xa': 37.1, 'ttl_ast_xag_diff': 3.5, 'ttl_pass_prog': 1568, 'pass_prog_ttl_dist': 93084, 'ttl_key_passes': 407, 'ttl_pass_fthird': 1315, 'ttl_pass_opp_box': 312, 'ttl_cross_opp_box': 65}, 'passing_types': {'ttl_pass_live': 18862, 'ttl_pass_dead': 1691, 'ttl_pass_fk': 376, 'ttl_through_balls': 80, 'ttl_switches': 187, 'ttl_crosses': 659, 'ttl_pass_offside': 88, 'ttl_pass_blocked': 369, 'ttl_throw_ins': 725, 'ttl_ck': 197, 'ck_in_swinger': 74, 'ck_out_swinger': 88, 'ck_straight': 0}, 'gca': {'ttl_sca': 917, 'avg_sca': 24.13, 'ttl_pass_live_sca': 706, 'ttl_take_on_sca': 56, 'ttl_sh_sca': 38, 'ttl_fld_sca': 39, 'ttl_def_sca': 13, 'ttl_gca': 104, 'avg_gca': 2.74, 'ttl_pass_live_gca': 77, 'ttl_pass_dead_gca': 6, 'ttl_take_on_gca': 6, 'ttl_sh_gca': 7, 'ttl_fld_gca': 5, 'ttl_def_gca': 3}, 'defense': {'ttl_tkl': 585, 'ttl_tkl_won': 358, 'ttl_tkl_def_third': 320, 'ttl_tkl_mid_third': 197, 'ttl_tkl_att_third': 68, 'ttl_tkl_drb': 265, 'ttl_tkl_drb_att': 608, 'pct_tkl_drb_suc': 43.6, 'ttl_blocks': 404, 'ttl_sh_blocked': 133, 'ttl_int': 340, 'ttl_tkl_plus_int': 925, 'ttl_clearances': 704, 'ttl_def_error': 20}, 'possession': {'avg_poss': '52.7', 'ttl_touches': 24652, 'ttl_touch_def_box': 2256, 'ttl_touch_def_third': 7391, 'ttl_touch_mid_third': 11141, 'ttl_touch_fthird': 6331, 'ttl_touch_opp_box': 883, 'ttl_touch_live': 24647, 'ttl_take_on_att': 631, 'ttl_take_on_suc': 368, 'pct_take_on_suc': 58.3, 'ttl_take_on_tkld': 263, 'pct_take_on_tkld': 41.7, 'ttl_carries': 13954, 'ttl_carries_dist': 76394, 'ttl_carries_prog_dist': 41495, 'ttl_carries_fthird': 587, 'ttl_carries_opp_box': 213, 'ttl_carries_miscontrolled': 538, 'ttl_carries_dispossessed': 333, 'ttl_pass_recvd': 16590, 'ttl_pass_prog_rcvd': 1562}, 'playingtime': {'avg_age': 27.2, 'avg_min_starter': 85.0, 'ttl_subs': 114, 'avg_min_sub': 20.0}, 'misc': {'ttl_second_yellow_cards': 1, 'ttl_fls_ag': 396, 'ttl_fls_for': 320, 'ttl_offside': 88, 'ttl_pk_won': 3, 'ttl_pk_conceded': 5, 'ttl_og': 3, 'ttl_ball_recov': 2071, 'ttl_air_dual_won': 555, 'ttl_air_dual_lost': 443}}}, {'meta_data': {'team_id': 'b2b47a98', 'team_name': 'Newcastle Utd'}, 'stats': {'stats': {'roster_size': 29, 'matches_played': 38, 'ttl_gls': 41, 'ttl_ast': 23, 'ttl_non_pen_gls': 38, 'ttl_xg': 38.1, 'ttl_non_pen_xg': 35.9, 'ttl_xag': 25.8, 'ttl_pk_made': 3, 'ttl_pk_att': 3, 'ttl_yellow_cards': 81, 'ttl_red_cards': 2, 'ttl_carries_prog': 544, 'ttl_passes_prog': 923, 'avg_gls': 1.08, 'avg_ast': 0.61, 'avg_non_pen_gls': 1.0, 'avg_xg': 1.0, 'avg_xag': 0.68, 'avg_non_pen_xg': 0.94}, 'keepers': {'ttl_gls_ag': 62, 'avg_gls_ag': 1.63, 'sot_ag': 165, 'ttl_saves': 104, 'save_pct': 65.5, 'clean_sheets': 8, 'clean_sheet_pct': 21.1, 'pk_att_ag': 6, 'pk_made_ag': 5, 'pk_saved': 1, 'pk_miss_ag': 0, 'pk_save_pct': 16.7}, 'keepersadv': {'ttl_pk_att_ag': 5, 'ttl_fk_gls_ag': 0, 'ttl_ck_gls_ag': 8, 'ttl_og_ag': 2, 'ttl_psxg': 52.3, 'psxg_per_sot': 0.29, 'ttl_launched_pass_cmp': 302, 'ttl_launched_pass_att': 726, 'pct_launched_pass_cmp': 41.6, 'ttl_pass_att': 864, 'ttl_throws_att': 127, 'pct_passes_launched': 50.3, 'avg_pass_len': 44.5, 'ttl_gk_att': 344, 'pct_gk_launch': 84.6, 'avg_gk_len': 57.5, 'ttl_crosses_faced': 521, 'ttl_crosses_stopped': 30, 'pct_crosses_stopped': 5.8, 'ttl_def_action_outside_box': 18, 'avg_def_action_outside_box': 0.47, 'avg_dist_def_action_outside_box': 10.5}, 'shooting': {'ttl_sh': 446, 'ttl_sot': 142, 'pct_sot': 31.8, 'avg_sh': 11.74, 'avg_sot': 3.74, 'gls_per_sh': 0.09, 'gls_per_sot': 0.27, 'avg_sh_dist': 18.1, 'ttl_fk_sh': 15, 'npxg_per_sh': 0.08, 'ttl_gls_xg_diff': 2.9, 'ttl_non_pen_gls_xg_diff': 2.1}, 'passing': {'ttl_pass_cmp': 10201, 'pct_pass_cmp': 72.7, 'pass_ttl_dist': 188373, 'ttl_pass_cmp_s': 4545, 'ttl_pass_att_s': 5432, 'pct_pass_cmp_s': 83.7, 'ttl_pass_cmp_m': 3917, 'ttl_pass_att_m': 4880, 'pct_pass_cmp_m': 80.3, 'ttl_pass_cmp_l': 1343, 'ttl_pass_att_l': 2746, 'pct_pass_cmp_l': 48.9, 'ttl_xa': 23.3, 'ttl_ast_xag_diff': -2.8, 'ttl_pass_prog': 923, 'pass_prog_ttl_dist': 77685, 'ttl_key_passes': 308, 'ttl_pass_fthird': 791, 'ttl_pass_opp_box': 193, 'ttl_cross_opp_box': 55}, 'passing_types': {'ttl_pass_live': 12203, 'ttl_pass_dead': 1762, 'ttl_pass_fk': 415, 'ttl_through_balls': 31, 'ttl_switches': 114, 'ttl_crosses': 592, 'ttl_pass_offside': 71, 'ttl_pass_blocked': 281, 'ttl_throw_ins': 743, 'ttl_ck': 160, 'ck_in_swinger': 90, 'ck_out_swinger': 46, 'ck_straight': 14}, 'gca': {'ttl_sca': 758, 'avg_sca': 19.95, 'ttl_pass_live_sca': 504, 'ttl_take_on_sca': 61, 'ttl_sh_sca': 57, 'ttl_fld_sca': 44, 'ttl_def_sca': 11, 'ttl_gca': 70, 'avg_gca': 1.84, 'ttl_pass_live_gca': 46, 'ttl_pass_dead_gca': 4, 'ttl_take_on_gca': 5, 'ttl_sh_gca': 9, 'ttl_fld_gca': 6, 'ttl_def_gca': 0}, 'defense': {'ttl_tkl': 659, 'ttl_tkl_won': 383, 'ttl_tkl_def_third': 334, 'ttl_tkl_mid_third': 266, 'ttl_tkl_att_third': 59, 'ttl_tkl_drb': 304, 'ttl_tkl_drb_att': 641, 'pct_tkl_drb_suc': 47.4, 'ttl_blocks': 420, 'ttl_sh_blocked': 162, 'ttl_int': 360, 'ttl_tkl_plus_int': 1019, 'ttl_clearances': 776, 'ttl_def_error': 14}, 'possession': {'avg_poss': '40.4', 'ttl_touches': 18281, 'ttl_touch_def_box': 2310, 'ttl_touch_def_third': 6731, 'ttl_touch_mid_third': 7483, 'ttl_touch_fthird': 4314, 'ttl_touch_opp_box': 727, 'ttl_touch_live': 18278, 'ttl_take_on_att': 632, 'ttl_take_on_suc': 359, 'pct_take_on_suc': 56.8, 'ttl_take_on_tkld': 273, 'pct_take_on_tkld': 43.2, 'ttl_carries': 9243, 'ttl_carries_dist': 50896, 'ttl_carries_prog_dist': 23964, 'ttl_carries_fthird': 397, 'ttl_carries_opp_box': 163, 'ttl_carries_miscontrolled': 622, 'ttl_carries_dispossessed': 359, 'ttl_pass_recvd': 10113, 'ttl_pass_prog_rcvd': 911}, 'playingtime': {'avg_age': 27.5, 'avg_min_starter': 85.0, 'ttl_subs': 108, 'avg_min_sub': 18.0}, 'misc': {'ttl_second_yellow_cards': 1, 'ttl_fls_ag': 392, 'ttl_fls_for': 366, 'ttl_offside': 71, 'ttl_pk_won': 1, 'ttl_pk_conceded': 6, 'ttl_og': 2, 'ttl_ball_recov': 1835, 'ttl_air_dual_won': 677, 'ttl_air_dual_lost': 619}}}, {'meta_data': {'team_id': '1c781004', 'team_name': 'Norwich City'}, 'stats': {'stats': {'roster_size': 28, 'matches_played': 38, 'ttl_gls': 21, 'ttl_ast': 16, 'ttl_non_pen_gls': 18, 'ttl_xg': 32.3, 'ttl_non_pen_xg': 30.0, 'ttl_xag': 24.3, 'ttl_pk_made': 3, 'ttl_pk_att': 3, 'ttl_yellow_cards': 57, 'ttl_red_cards': 1, 'ttl_carries_prog': 566, 'ttl_passes_prog': 1031, 'avg_gls': 0.55, 'avg_ast': 0.42, 'avg_non_pen_gls': 0.47, 'avg_xg': 0.85, 'avg_xag': 0.64, 'avg_non_pen_xg': 0.79}, 'keepers': {'ttl_gls_ag': 84, 'avg_gls_ag': 2.21, 'sot_ag': 222, 'ttl_saves': 139, 'save_pct': 66.2, 'clean_sheets': 6, 'clean_sheet_pct': 15.8, 'pk_att_ag': 12, 'pk_made_ag': 9, 'pk_saved': 1, 'pk_miss_ag': 2, 'pk_save_pct': 10.0}, 'keepersadv': {'ttl_pk_att_ag': 9, 'ttl_fk_gls_ag': 1, 'ttl_ck_gls_ag': 9, 'ttl_og_ag': 2, 'ttl_psxg': 67.6, 'psxg_per_sot': 0.27, 'ttl_launched_pass_cmp': 179, 'ttl_launched_pass_att': 528, 'pct_launched_pass_cmp': 33.9, 'ttl_pass_att': 1065, 'ttl_throws_att': 215, 'pct_passes_launched': 36.3, 'avg_pass_len': 34.5, 'ttl_gk_att': 311, 'pct_gk_launch': 45.3, 'avg_gk_len': 38.5, 'ttl_crosses_faced': 617, 'ttl_crosses_stopped': 17, 'pct_crosses_stopped': 2.8, 'ttl_def_action_outside_box': 33, 'avg_def_action_outside_box': 0.87, 'avg_dist_def_action_outside_box': 17.3}, 'shooting': {'ttl_sh': 370, 'ttl_sot': 104, 'pct_sot': 28.1, 'avg_sh': 9.74, 'avg_sot': 2.74, 'gls_per_sh': 0.05, 'gls_per_sot': 0.17, 'avg_sh_dist': 19.0, 'ttl_fk_sh': 18, 'npxg_per_sh': 0.08, 'ttl_gls_xg_diff': -11.3, 'ttl_non_pen_gls_xg_diff': -12.0}, 'passing': {'ttl_pass_cmp': 12164, 'pct_pass_cmp': 75.7, 'pass_ttl_dist': 217007, 'ttl_pass_cmp_s': 5578, 'ttl_pass_att_s': 6484, 'pct_pass_cmp_s': 86.0, 'ttl_pass_cmp_m': 4912, 'ttl_pass_att_m': 5949, 'pct_pass_cmp_m': 82.6, 'ttl_pass_cmp_l': 1369, 'ttl_pass_att_l': 2757, 'pct_pass_cmp_l': 49.7, 'ttl_xa': 23.7, 'ttl_ast_xag_diff': -8.3, 'ttl_pass_prog': 1031, 'pass_prog_ttl_dist': 80065, 'ttl_key_passes': 264, 'ttl_pass_fthird': 739, 'ttl_pass_opp_box': 226, 'ttl_cross_opp_box': 46}, 'passing_types': {'ttl_pass_live': 14176, 'ttl_pass_dead': 1839, 'ttl_pass_fk': 474, 'ttl_through_balls': 50, 'ttl_switches': 153, 'ttl_crosses': 568, 'ttl_pass_offside': 55, 'ttl_pass_blocked': 306, 'ttl_throw_ins': 766, 'ttl_ck': 165, 'ck_in_swinger': 90, 'ck_out_swinger': 60, 'ck_straight': 2}, 'gca': {'ttl_sca': 637, 'avg_sca': 16.76, 'ttl_pass_live_sca': 435, 'ttl_take_on_sca': 41, 'ttl_sh_sca': 33, 'ttl_fld_sca': 50, 'ttl_def_sca': 11, 'ttl_gca': 35, 'avg_gca': 0.92, 'ttl_pass_live_gca': 27, 'ttl_pass_dead_gca': 2, 'ttl_take_on_gca': 1, 'ttl_sh_gca': 1, 'ttl_fld_gca': 3, 'ttl_def_gca': 1}, 'defense': {'ttl_tkl': 614, 'ttl_tkl_won': 368, 'ttl_tkl_def_third': 322, 'ttl_tkl_mid_third': 242, 'ttl_tkl_att_third': 50, 'ttl_tkl_drb': 297, 'ttl_tkl_drb_att': 714, 'pct_tkl_drb_suc': 41.6, 'ttl_blocks': 450, 'ttl_sh_blocked': 180, 'ttl_int': 381, 'ttl_tkl_plus_int': 995, 'ttl_clearances': 860, 'ttl_def_error': 14}, 'possession': {'avg_poss': '42.9', 'ttl_touches': 20234, 'ttl_touch_def_box': 2911, 'ttl_touch_def_third': 8245, 'ttl_touch_mid_third': 8047, 'ttl_touch_fthird': 4167, 'ttl_touch_opp_box': 601, 'ttl_touch_live': 20231, 'ttl_take_on_att': 581, 'ttl_take_on_suc': 298, 'pct_take_on_suc': 51.3, 'ttl_take_on_tkld': 283, 'pct_take_on_tkld': 48.7, 'ttl_carries': 11136, 'ttl_carries_dist': 60854, 'ttl_carries_prog_dist': 30074, 'ttl_carries_fthird': 356, 'ttl_carries_opp_box': 126, 'ttl_carries_miscontrolled': 548, 'ttl_carries_dispossessed': 313, 'ttl_pass_recvd': 12047, 'ttl_pass_prog_rcvd': 1018}, 'playingtime': {'avg_age': 26.2, 'avg_min_starter': 84.0, 'ttl_subs': 114, 'avg_min_sub': 21.0}, 'misc': {'ttl_second_yellow_cards': 1, 'ttl_fls_ag': 356, 'ttl_fls_for': 431, 'ttl_offside': 55, 'ttl_pk_won': 2, 'ttl_pk_conceded': 12, 'ttl_og': 2, 'ttl_ball_recov': 1887, 'ttl_air_dual_won': 493, 'ttl_air_dual_lost': 598}}}, {'meta_data': {'team_id': '33c895d4', 'team_name': 'Southampton'}, 'stats': {'stats': {'roster_size': 25, 'matches_played': 38, 'ttl_gls': 41, 'ttl_ast': 26, 'ttl_non_pen_gls': 37, 'ttl_xg': 44.8, 'ttl_non_pen_xg': 41.6, 'ttl_xag': 32.5, 'ttl_pk_made': 4, 'ttl_pk_att': 4, 'ttl_yellow_cards': 65, 'ttl_red_cards': 2, 'ttl_carries_prog': 728, 'ttl_passes_prog': 1326, 'avg_gls': 1.08, 'avg_ast': 0.68, 'avg_non_pen_gls': 0.97, 'avg_xg': 1.18, 'avg_xag': 0.85, 'avg_non_pen_xg': 1.1}, 'keepers': {'ttl_gls_ag': 67, 'avg_gls_ag': 1.76, 'sot_ag': 183, 'ttl_saves': 118, 'save_pct': 64.5, 'clean_sheets': 8, 'clean_sheet_pct': 21.1, 'pk_att_ag': 2, 'pk_made_ag': 2, 'pk_saved': 0, 'pk_miss_ag': 0, 'pk_save_pct': 0.0}, 'keepersadv': {'ttl_pk_att_ag': 2, 'ttl_fk_gls_ag': 0, 'ttl_ck_gls_ag': 12, 'ttl_og_ag': 2, 'ttl_psxg': 57.2, 'psxg_per_sot': 0.31, 'ttl_launched_pass_cmp': 196, 'ttl_launched_pass_att': 612, 'pct_launched_pass_cmp': 32.0, 'ttl_pass_att': 884, 'ttl_throws_att': 149, 'pct_passes_launched': 46.4, 'avg_pass_len': 38.4, 'ttl_gk_att': 285, 'pct_gk_launch': 70.9, 'avg_gk_len': 49.3, 'ttl_crosses_faced': 573, 'ttl_crosses_stopped': 42, 'pct_crosses_stopped': 7.3, 'ttl_def_action_outside_box': 33, 'avg_def_action_outside_box': 0.87, 'avg_dist_def_action_outside_box': 14.0}, 'shooting': {'ttl_sh': 478, 'ttl_sot': 161, 'pct_sot': 33.7, 'avg_sh': 12.58, 'avg_sot': 4.24, 'gls_per_sh': 0.08, 'gls_per_sot': 0.23, 'avg_sh_dist': 17.7, 'ttl_fk_sh': 24, 'npxg_per_sh': 0.09, 'ttl_gls_xg_diff': -3.8, 'ttl_non_pen_gls_xg_diff': -4.6}, 'passing': {'ttl_pass_cmp': 12505, 'pct_pass_cmp': 73.8, 'pass_ttl_dist': 211003, 'ttl_pass_cmp_s': 6089, 'ttl_pass_att_s': 7173, 'pct_pass_cmp_s': 84.9, 'ttl_pass_cmp_m': 4893, 'ttl_pass_att_m': 6093, 'pct_pass_cmp_m': 80.3, 'ttl_pass_cmp_l': 1112, 'ttl_pass_att_l': 2591, 'pct_pass_cmp_l': 42.9, 'ttl_xa': 28.7, 'ttl_ast_xag_diff': -6.5, 'ttl_pass_prog': 1326, 'pass_prog_ttl_dist': 80089, 'ttl_key_passes': 353, 'ttl_pass_fthird': 1016, 'ttl_pass_opp_box': 249, 'ttl_cross_opp_box': 58}, 'passing_types': {'ttl_pass_live': 15115, 'ttl_pass_dead': 1784, 'ttl_pass_fk': 411, 'ttl_through_balls': 43, 'ttl_switches': 81, 'ttl_crosses': 711, 'ttl_pass_offside': 42, 'ttl_pass_blocked': 343, 'ttl_throw_ins': 750, 'ttl_ck': 233, 'ck_in_swinger': 106, 'ck_out_swinger': 105, 'ck_straight': 4}, 'gca': {'ttl_sca': 814, 'avg_sca': 21.42, 'ttl_pass_live_sca': 585, 'ttl_take_on_sca': 43, 'ttl_sh_sca': 51, 'ttl_fld_sca': 49, 'ttl_def_sca': 18, 'ttl_gca': 71, 'avg_gca': 1.87, 'ttl_pass_live_gca': 44, 'ttl_pass_dead_gca': 5, 'ttl_take_on_gca': 6, 'ttl_sh_gca': 4, 'ttl_fld_gca': 9, 'ttl_def_gca': 3}, 'defense': {'ttl_tkl': 602, 'ttl_tkl_won': 340, 'ttl_tkl_def_third': 285, 'ttl_tkl_mid_third': 243, 'ttl_tkl_att_third': 74, 'ttl_tkl_drb': 248, 'ttl_tkl_drb_att': 581, 'pct_tkl_drb_suc': 42.7, 'ttl_blocks': 430, 'ttl_sh_blocked': 132, 'ttl_int': 446, 'ttl_tkl_plus_int': 1048, 'ttl_clearances': 795, 'ttl_def_error': 13}, 'possession': {'avg_poss': '47.7', 'ttl_touches': 21418, 'ttl_touch_def_box': 2216, 'ttl_touch_def_third': 6541, 'ttl_touch_mid_third': 9409, 'ttl_touch_fthird': 5713, 'ttl_touch_opp_box': 830, 'ttl_touch_live': 21414, 'ttl_take_on_att': 624, 'ttl_take_on_suc': 350, 'pct_take_on_suc': 56.1, 'ttl_take_on_tkld': 274, 'pct_take_on_tkld': 43.9, 'ttl_carries': 11085, 'ttl_carries_dist': 62327, 'ttl_carries_prog_dist': 31425, 'ttl_carries_fthird': 561, 'ttl_carries_opp_box': 197, 'ttl_carries_miscontrolled': 626, 'ttl_carries_dispossessed': 366, 'ttl_pass_recvd': 12388, 'ttl_pass_prog_rcvd': 1314}, 'playingtime': {'avg_age': 25.7, 'avg_min_starter': 85.0, 'ttl_subs': 110, 'avg_min_sub': 19.0}, 'misc': {'ttl_second_yellow_cards': 1, 'ttl_fls_ag': 402, 'ttl_fls_for': 363, 'ttl_offside': 42, 'ttl_pk_won': 4, 'ttl_pk_conceded': 2, 'ttl_og': 2, 'ttl_ball_recov': 2224, 'ttl_air_dual_won': 672, 'ttl_air_dual_lost': 726}}}, {'meta_data': {'team_id': '361ca564', 'team_name': 'Tottenham'}, 'stats': {'stats': {'roster_size': 25, 'matches_played': 38, 'ttl_gls': 63, 'ttl_ast': 50, 'ttl_non_pen_gls': 58, 'ttl_xg': 61.2, 'ttl_non_pen_xg': 57.3, 'ttl_xag': 47.0, 'ttl_pk_made': 5, 'ttl_pk_att': 5, 'ttl_yellow_cards': 69, 'ttl_red_cards': 1, 'ttl_carries_prog': 791, 'ttl_passes_prog': 1459, 'avg_gls': 1.66, 'avg_ast': 1.32, 'avg_non_pen_gls': 1.53, 'avg_xg': 1.61, 'avg_xag': 1.24, 'avg_non_pen_xg': 1.51}, 'keepers': {'ttl_gls_ag': 40, 'avg_gls_ag': 1.05, 'sot_ag': 137, 'ttl_saves': 98, 'save_pct': 72.3, 'clean_sheets': 16, 'clean_sheet_pct': 42.1, 'pk_att_ag': 2, 'pk_made_ag': 2, 'pk_saved': 0, 'pk_miss_ag': 0, 'pk_save_pct': 0.0}, 'keepersadv': {'ttl_pk_att_ag': 2, 'ttl_fk_gls_ag': 1, 'ttl_ck_gls_ag': 5, 'ttl_og_ag': 1, 'ttl_psxg': 37.6, 'psxg_per_sot': 0.26, 'ttl_launched_pass_cmp': 115, 'ttl_launched_pass_att': 279, 'pct_launched_pass_cmp': 41.2, 'ttl_pass_att': 672, 'ttl_throws_att': 161, 'pct_passes_launched': 29.8, 'avg_pass_len': 31.0, 'ttl_gk_att': 282, 'pct_gk_launch': 28.0, 'avg_gk_len': 26.4, 'ttl_crosses_faced': 567, 'ttl_crosses_stopped': 33, 'pct_crosses_stopped': 5.8, 'ttl_def_action_outside_box': 45, 'avg_def_action_outside_box': 1.18, 'avg_dist_def_action_outside_box': 14.2}, 'shooting': {'ttl_sh': 486, 'ttl_sot': 185, 'pct_sot': 38.1, 'avg_sh': 12.79, 'avg_sot': 4.87, 'gls_per_sh': 0.12, 'gls_per_sot': 0.31, 'avg_sh_dist': 16.7, 'ttl_fk_sh': 16, 'npxg_per_sh': 0.12, 'ttl_gls_xg_diff': 1.8, 'ttl_non_pen_gls_xg_diff': 0.7}, 'passing': {'ttl_pass_cmp': 17204, 'pct_pass_cmp': 83.1, 'pass_ttl_dist': 283871, 'ttl_pass_cmp_s': 8270, 'ttl_pass_att_s': 9143, 'pct_pass_cmp_s': 90.5, 'ttl_pass_cmp_m': 6856, 'ttl_pass_att_m': 7812, 'pct_pass_cmp_m': 87.8, 'ttl_pass_cmp_l': 1376, 'ttl_pass_att_l': 2371, 'pct_pass_cmp_l': 58.0, 'ttl_xa': 41.3, 'ttl_ast_xag_diff': 3.0, 'ttl_pass_prog': 1459, 'pass_prog_ttl_dist': 93464, 'ttl_key_passes': 379, 'ttl_pass_fthird': 1172, 'ttl_pass_opp_box': 338, 'ttl_cross_opp_box': 81}, 'passing_types': {'ttl_pass_live': 18976, 'ttl_pass_dead': 1658, 'ttl_pass_fk': 430, 'ttl_through_balls': 88, 'ttl_switches': 133, 'ttl_crosses': 632, 'ttl_pass_offside': 62, 'ttl_pass_blocked': 332, 'ttl_throw_ins': 676, 'ttl_ck': 193, 'ck_in_swinger': 78, 'ck_out_swinger': 62, 'ck_straight': 0}, 'gca': {'ttl_sca': 882, 'avg_sca': 23.21, 'ttl_pass_live_sca': 678, 'ttl_take_on_sca': 46, 'ttl_sh_sca': 61, 'ttl_fld_sca': 37, 'ttl_def_sca': 9, 'ttl_gca': 117, 'avg_gca': 3.08, 'ttl_pass_live_gca': 95, 'ttl_pass_dead_gca': 3, 'ttl_take_on_gca': 4, 'ttl_sh_gca': 8, 'ttl_fld_gca': 6, 'ttl_def_gca': 1}, 'defense': {'ttl_tkl': 598, 'ttl_tkl_won': 349, 'ttl_tkl_def_third': 286, 'ttl_tkl_mid_third': 244, 'ttl_tkl_att_third': 68, 'ttl_tkl_drb': 262, 'ttl_tkl_drb_att': 584, 'pct_tkl_drb_suc': 44.9, 'ttl_blocks': 470, 'ttl_sh_blocked': 161, 'ttl_int': 355, 'ttl_tkl_plus_int': 953, 'ttl_clearances': 793, 'ttl_def_error': 15}, 'possession': {'avg_poss': '51.8', 'ttl_touches': 24853, 'ttl_touch_def_box': 2515, 'ttl_touch_def_third': 8010, 'ttl_touch_mid_third': 11453, 'ttl_touch_fthird': 5627, 'ttl_touch_opp_box': 864, 'ttl_touch_live': 24848, 'ttl_take_on_att': 667, 'ttl_take_on_suc': 375, 'pct_take_on_suc': 56.2, 'ttl_take_on_tkld': 291, 'pct_take_on_tkld': 43.6, 'ttl_carries': 15122, 'ttl_carries_dist': 82037, 'ttl_carries_prog_dist': 42338, 'ttl_carries_fthird': 596, 'ttl_carries_opp_box': 195, 'ttl_carries_miscontrolled': 588, 'ttl_carries_dispossessed': 341, 'ttl_pass_recvd': 17097, 'ttl_pass_prog_rcvd': 1450}, 'playingtime': {'avg_age': 26.5, 'avg_min_starter': 85.0, 'ttl_subs': 106, 'avg_min_sub': 18.0}, 'misc': {'ttl_second_yellow_cards': 1, 'ttl_fls_ag': 386, 'ttl_fls_for': 406, 'ttl_offside': 62, 'ttl_pk_won': 3, 'ttl_pk_conceded': 2, 'ttl_og': 1, 'ttl_ball_recov': 1893, 'ttl_air_dual_won': 560, 'ttl_air_dual_lost': 500}}}, {'meta_data': {'team_id': '2abfe087', 'team_name': 'Watford'}, 'stats': {'stats': {'roster_size': 30, 'matches_played': 38, 'ttl_gls': 33, 'ttl_ast': 26, 'ttl_non_pen_gls': 32, 'ttl_xg': 40.0, 'ttl_non_pen_xg': 38.4, 'ttl_xag': 32.5, 'ttl_pk_made': 1, 'ttl_pk_att': 2, 'ttl_yellow_cards': 63, 'ttl_red_cards': 3, 'ttl_carries_prog': 557, 'ttl_passes_prog': 1070, 'avg_gls': 0.87, 'avg_ast': 0.68, 'avg_non_pen_gls': 0.84, 'avg_xg': 1.05, 'avg_xag': 0.86, 'avg_non_pen_xg': 1.01}, 'keepers': {'ttl_gls_ag': 77, 'avg_gls_ag': 2.03, 'sot_ag': 188, 'ttl_saves': 113, 'save_pct': 62.2, 'clean_sheets': 4, 'clean_sheet_pct': 10.5, 'pk_att_ag': 7, 'pk_made_ag': 6, 'pk_saved': 1, 'pk_miss_ag': 0, 'pk_save_pct': 14.3}, 'keepersadv': {'ttl_pk_att_ag': 6, 'ttl_fk_gls_ag': 1, 'ttl_ck_gls_ag': 6, 'ttl_og_ag': 3, 'ttl_psxg': 60.3, 'psxg_per_sot': 0.29, 'ttl_launched_pass_cmp': 267, 'ttl_launched_pass_att': 830, 'pct_launched_pass_cmp': 32.2, 'ttl_pass_att': 932, 'ttl_throws_att': 123, 'pct_passes_launched': 61.1, 'avg_pass_len': 44.7, 'ttl_gk_att': 311, 'pct_gk_launch': 83.9, 'avg_gk_len': 57.1, 'ttl_crosses_faced': 642, 'ttl_crosses_stopped': 27, 'pct_crosses_stopped': 4.2, 'ttl_def_action_outside_box': 49, 'avg_def_action_outside_box': 1.29, 'avg_dist_def_action_outside_box': 15.9}, 'shooting': {'ttl_sh': 397, 'ttl_sot': 123, 'pct_sot': 31.0, 'avg_sh': 10.45, 'avg_sot': 3.24, 'gls_per_sh': 0.08, 'gls_per_sot': 0.26, 'avg_sh_dist': 18.1, 'ttl_fk_sh': 24, 'npxg_per_sh': 0.1, 'ttl_gls_xg_diff': -7.0, 'ttl_non_pen_gls_xg_diff': -6.4}, 'passing': {'ttl_pass_cmp': 10423, 'pct_pass_cmp': 71.2, 'pass_ttl_dist': 193942, 'ttl_pass_cmp_s': 4505, 'ttl_pass_att_s': 5496, 'pct_pass_cmp_s': 82.0, 'ttl_pass_cmp_m': 4270, 'ttl_pass_att_m': 5325, 'pct_pass_cmp_m': 80.2, 'ttl_pass_cmp_l': 1330, 'ttl_pass_att_l': 2904, 'pct_pass_cmp_l': 45.8, 'ttl_xa': 22.4, 'ttl_ast_xag_diff': -6.5, 'ttl_pass_prog': 1070, 'pass_prog_ttl_dist': 80054, 'ttl_key_passes': 298, 'ttl_pass_fthird': 834, 'ttl_pass_opp_box': 213, 'ttl_cross_opp_box': 70}, 'passing_types': {'ttl_pass_live': 12800, 'ttl_pass_dead': 1788, 'ttl_pass_fk': 394, 'ttl_through_balls': 35, 'ttl_switches': 101, 'ttl_crosses': 610, 'ttl_pass_offside': 53, 'ttl_pass_blocked': 317, 'ttl_throw_ins': 808, 'ttl_ck': 161, 'ck_in_swinger': 90, 'ck_out_swinger': 50, 'ck_straight': 4}, 'gca': {'ttl_sca': 693, 'avg_sca': 18.24, 'ttl_pass_live_sca': 475, 'ttl_take_on_sca': 48, 'ttl_sh_sca': 43, 'ttl_fld_sca': 52, 'ttl_def_sca': 16, 'ttl_gca': 57, 'avg_gca': 1.5, 'ttl_pass_live_gca': 36, 'ttl_pass_dead_gca': 5, 'ttl_take_on_gca': 4, 'ttl_sh_gca': 7, 'ttl_fld_gca': 3, 'ttl_def_gca': 2}, 'defense': {'ttl_tkl': 614, 'ttl_tkl_won': 356, 'ttl_tkl_def_third': 341, 'ttl_tkl_mid_third': 213, 'ttl_tkl_att_third': 60, 'ttl_tkl_drb': 278, 'ttl_tkl_drb_att': 626, 'pct_tkl_drb_suc': 44.4, 'ttl_blocks': 440, 'ttl_sh_blocked': 148, 'ttl_int': 444, 'ttl_tkl_plus_int': 1058, 'ttl_clearances': 899, 'ttl_def_error': 19}, 'possession': {'avg_poss': '40.7', 'ttl_touches': 19161, 'ttl_touch_def_box': 2469, 'ttl_touch_def_third': 7245, 'ttl_touch_mid_third': 7827, 'ttl_touch_fthird': 4328, 'ttl_touch_opp_box': 625, 'ttl_touch_live': 19159, 'ttl_take_on_att': 751, 'ttl_take_on_suc': 395, 'pct_take_on_suc': 52.6, 'ttl_take_on_tkld': 356, 'pct_take_on_tkld': 47.4, 'ttl_carries': 9426, 'ttl_carries_dist': 51283, 'ttl_carries_prog_dist': 24863, 'ttl_carries_fthird': 380, 'ttl_carries_opp_box': 148, 'ttl_carries_miscontrolled': 639, 'ttl_carries_dispossessed': 389, 'ttl_pass_recvd': 10320, 'ttl_pass_prog_rcvd': 1057}, 'playingtime': {'avg_age': 28.4, 'avg_min_starter': 84.0, 'ttl_subs': 106, 'avg_min_sub': 23.0}, 'misc': {'ttl_second_yellow_cards': 3, 'ttl_fls_ag': 442, 'ttl_fls_for': 352, 'ttl_offside': 53, 'ttl_pk_won': 2, 'ttl_pk_conceded': 7, 'ttl_og': 3, 'ttl_ball_recov': 2154, 'ttl_air_dual_won': 711, 'ttl_air_dual_lost': 749}}}, {'meta_data': {'team_id': '7c21e445', 'team_name': 'West Ham'}, 'stats': {'stats': {'roster_size': 25, 'matches_played': 38, 'ttl_gls': 58, 'ttl_ast': 46, 'ttl_non_pen_gls': 54, 'ttl_xg': 51.4, 'ttl_non_pen_xg': 46.8, 'ttl_xag': 37.4, 'ttl_pk_made': 4, 'ttl_pk_att': 6, 'ttl_yellow_cards': 52, 'ttl_red_cards': 3, 'ttl_carries_prog': 646, 'ttl_passes_prog': 1449, 'avg_gls': 1.53, 'avg_ast': 1.21, 'avg_non_pen_gls': 1.42, 'avg_xg': 1.35, 'avg_xag': 0.99, 'avg_non_pen_xg': 1.23}, 'keepers': {'ttl_gls_ag': 51, 'avg_gls_ag': 1.34, 'sot_ag': 165, 'ttl_saves': 113, 'save_pct': 70.3, 'clean_sheets': 8, 'clean_sheet_pct': 21.1, 'pk_att_ag': 6, 'pk_made_ag': 2, 'pk_saved': 3, 'pk_miss_ag': 1, 'pk_save_pct': 60.0}, 'keepersadv': {'ttl_pk_att_ag': 2, 'ttl_fk_gls_ag': 2, 'ttl_ck_gls_ag': 8, 'ttl_og_ag': 2, 'ttl_psxg': 48.0, 'psxg_per_sot': 0.27, 'ttl_launched_pass_cmp': 202, 'ttl_launched_pass_att': 553, 'pct_launched_pass_cmp': 36.5, 'ttl_pass_att': 748, 'ttl_throws_att': 167, 'pct_passes_launched': 50.5, 'avg_pass_len': 46.3, 'ttl_gk_att': 305, 'pct_gk_launch': 57.4, 'avg_gk_len': 42.9, 'ttl_crosses_faced': 610, 'ttl_crosses_stopped': 29, 'pct_crosses_stopped': 4.8, 'ttl_def_action_outside_box': 12, 'avg_def_action_outside_box': 0.32, 'avg_dist_def_action_outside_box': 5.5}, 'shooting': {'ttl_sh': 443, 'ttl_sot': 142, 'pct_sot': 32.1, 'avg_sh': 11.66, 'avg_sot': 3.74, 'gls_per_sh': 0.12, 'gls_per_sot': 0.38, 'avg_sh_dist': 16.6, 'ttl_fk_sh': 13, 'npxg_per_sh': 0.11, 'ttl_gls_xg_diff': 6.6, 'ttl_non_pen_gls_xg_diff': 7.2}, 'passing': {'ttl_pass_cmp': 14326, 'pct_pass_cmp': 78.0, 'pass_ttl_dist': 251152, 'ttl_pass_cmp_s': 6627, 'ttl_pass_att_s': 7493, 'pct_pass_cmp_s': 88.4, 'ttl_pass_cmp_m': 5789, 'ttl_pass_att_m': 6856, 'pct_pass_cmp_m': 84.4, 'ttl_pass_cmp_l': 1479, 'ttl_pass_att_l': 2906, 'pct_pass_cmp_l': 50.9, 'ttl_xa': 32.4, 'ttl_ast_xag_diff': 8.6, 'ttl_pass_prog': 1449, 'pass_prog_ttl_dist': 89191, 'ttl_key_passes': 320, 'ttl_pass_fthird': 1106, 'ttl_pass_opp_box': 271, 'ttl_cross_opp_box': 87}, 'passing_types': {'ttl_pass_live': 16647, 'ttl_pass_dead': 1672, 'ttl_pass_fk': 309, 'ttl_through_balls': 29, 'ttl_switches': 146, 'ttl_crosses': 802, 'ttl_pass_offside': 59, 'ttl_pass_blocked': 353, 'ttl_throw_ins': 770, 'ttl_ck': 200, 'ck_in_swinger': 135, 'ck_out_swinger': 43, 'ck_straight': 1}, 'gca': {'ttl_sca': 770, 'avg_sca': 20.26, 'ttl_pass_live_sca': 569, 'ttl_take_on_sca': 47, 'ttl_sh_sca': 50, 'ttl_fld_sca': 28, 'ttl_def_sca': 8, 'ttl_gca': 102, 'avg_gca': 2.68, 'ttl_pass_live_gca': 72, 'ttl_pass_dead_gca': 10, 'ttl_take_on_gca': 5, 'ttl_sh_gca': 9, 'ttl_fld_gca': 5, 'ttl_def_gca': 1}, 'defense': {'ttl_tkl': 534, 'ttl_tkl_won': 301, 'ttl_tkl_def_third': 273, 'ttl_tkl_mid_third': 199, 'ttl_tkl_att_third': 62, 'ttl_tkl_drb': 240, 'ttl_tkl_drb_att': 557, 'pct_tkl_drb_suc': 43.1, 'ttl_blocks': 420, 'ttl_sh_blocked': 175, 'ttl_int': 374, 'ttl_tkl_plus_int': 908, 'ttl_clearances': 781, 'ttl_def_error': 5}, 'possession': {'avg_poss': '47.9', 'ttl_touches': 22331, 'ttl_touch_def_box': 2444, 'ttl_touch_def_third': 7012, 'ttl_touch_mid_third': 9992, 'ttl_touch_fthird': 5543, 'ttl_touch_opp_box': 810, 'ttl_touch_live': 22325, 'ttl_take_on_att': 545, 'ttl_take_on_suc': 306, 'pct_take_on_suc': 56.1, 'ttl_take_on_tkld': 239, 'pct_take_on_tkld': 43.9, 'ttl_carries': 12622, 'ttl_carries_dist': 68100, 'ttl_carries_prog_dist': 32664, 'ttl_carries_fthird': 479, 'ttl_carries_opp_box': 171, 'ttl_carries_miscontrolled': 520, 'ttl_carries_dispossessed': 294, 'ttl_pass_recvd': 14229, 'ttl_pass_prog_rcvd': 1437}, 'playingtime': {'avg_age': 28.2, 'avg_min_starter': 86.0, 'ttl_subs': 95, 'avg_min_sub': 17.0}, 'misc': {'ttl_second_yellow_cards': 2, 'ttl_fls_ag': 323, 'ttl_fls_for': 276, 'ttl_offside': 59, 'ttl_pk_won': 3, 'ttl_pk_conceded': 6, 'ttl_og': 2, 'ttl_ball_recov': 1970, 'ttl_air_dual_won': 639, 'ttl_air_dual_lost': 628}}}, {'meta_data': {'team_id': '8cec06e1', 'team_name': 'Wolves'}, 'stats': {'stats': {'roster_size': 26, 'matches_played': 38, 'ttl_gls': 35, 'ttl_ast': 22, 'ttl_non_pen_gls': 34, 'ttl_xg': 37.5, 'ttl_non_pen_xg': 36.8, 'ttl_xag': 26.4, 'ttl_pk_made': 1, 'ttl_pk_att': 1, 'ttl_yellow_cards': 62, 'ttl_red_cards': 2, 'ttl_carries_prog': 723, 'ttl_passes_prog': 1283, 'avg_gls': 0.92, 'avg_ast': 0.58, 'avg_non_pen_gls': 0.89, 'avg_xg': 0.99, 'avg_xag': 0.69, 'avg_non_pen_xg': 0.97}, 'keepers': {'ttl_gls_ag': 43, 'avg_gls_ag': 1.13, 'sot_ag': 167, 'ttl_saves': 125, 'save_pct': 79.6, 'clean_sheets': 11, 'clean_sheet_pct': 28.9, 'pk_att_ag': 10, 'pk_made_ag': 9, 'pk_saved': 0, 'pk_miss_ag': 1, 'pk_save_pct': 0.0}, 'keepersadv': {'ttl_pk_att_ag': 9, 'ttl_fk_gls_ag': 1, 'ttl_ck_gls_ag': 2, 'ttl_og_ag': 1, 'ttl_psxg': 49.3, 'psxg_per_sot': 0.25, 'ttl_launched_pass_cmp': 122, 'ttl_launched_pass_att': 423, 'pct_launched_pass_cmp': 28.8, 'ttl_pass_att': 863, 'ttl_throws_att': 220, 'pct_passes_launched': 35.6, 'avg_pass_len': 36.1, 'ttl_gk_att': 275, 'pct_gk_launch': 42.2, 'avg_gk_len': 36.5, 'ttl_crosses_faced': 562, 'ttl_crosses_stopped': 44, 'pct_crosses_stopped': 7.8, 'ttl_def_action_outside_box': 41, 'avg_def_action_outside_box': 1.08, 'avg_dist_def_action_outside_box': 14.2}, 'shooting': {'ttl_sh': 401, 'ttl_sot': 133, 'pct_sot': 33.2, 'avg_sh': 10.55, 'avg_sot': 3.5, 'gls_per_sh': 0.08, 'gls_per_sot': 0.26, 'avg_sh_dist': 18.6, 'ttl_fk_sh': 13, 'npxg_per_sh': 0.09, 'ttl_gls_xg_diff': -2.5, 'ttl_non_pen_gls_xg_diff': -2.8}, 'passing': {'ttl_pass_cmp': 15253, 'pct_pass_cmp': 79.8, 'pass_ttl_dist': 275607, 'ttl_pass_cmp_s': 6533, 'ttl_pass_att_s': 7415, 'pct_pass_cmp_s': 88.1, 'ttl_pass_cmp_m': 6610, 'ttl_pass_att_m': 7664, 'pct_pass_cmp_m': 86.2, 'ttl_pass_cmp_l': 1718, 'ttl_pass_att_l': 3005, 'pct_pass_cmp_l': 57.2, 'ttl_xa': 23.4, 'ttl_ast_xag_diff': -4.4, 'ttl_pass_prog': 1283, 'pass_prog_ttl_dist': 92814, 'ttl_key_passes': 294, 'ttl_pass_fthird': 1096, 'ttl_pass_opp_box': 212, 'ttl_cross_opp_box': 57}, 'passing_types': {'ttl_pass_live': 17380, 'ttl_pass_dead': 1662, 'ttl_pass_fk': 420, 'ttl_through_balls': 58, 'ttl_switches': 151, 'ttl_crosses': 587, 'ttl_pass_offside': 61, 'ttl_pass_blocked': 329, 'ttl_throw_ins': 718, 'ttl_ck': 168, 'ck_in_swinger': 41, 'ck_out_swinger': 86, 'ck_straight': 6}, 'gca': {'ttl_sca': 692, 'avg_sca': 18.21, 'ttl_pass_live_sca': 496, 'ttl_take_on_sca': 65, 'ttl_sh_sca': 37, 'ttl_fld_sca': 31, 'ttl_def_sca': 19, 'ttl_gca': 58, 'avg_gca': 1.53, 'ttl_pass_live_gca': 37, 'ttl_pass_dead_gca': 4, 'ttl_take_on_gca': 5, 'ttl_sh_gca': 8, 'ttl_fld_gca': 2, 'ttl_def_gca': 2}, 'defense': {'ttl_tkl': 673, 'ttl_tkl_won': 377, 'ttl_tkl_def_third': 377, 'ttl_tkl_mid_third': 242, 'ttl_tkl_att_third': 54, 'ttl_tkl_drb': 273, 'ttl_tkl_drb_att': 671, 'pct_tkl_drb_suc': 40.7, 'ttl_blocks': 437, 'ttl_sh_blocked': 135, 'ttl_int': 389, 'ttl_tkl_plus_int': 1062, 'ttl_clearances': 820, 'ttl_def_error': 20}, 'possession': {'avg_poss': '49.5', 'ttl_touches': 23334, 'ttl_touch_def_box': 2657, 'ttl_touch_def_third': 8472, 'ttl_touch_mid_third': 10204, 'ttl_touch_fthird': 4887, 'ttl_touch_opp_box': 703, 'ttl_touch_live': 23333, 'ttl_take_on_att': 771, 'ttl_take_on_suc': 450, 'pct_take_on_suc': 58.4, 'ttl_take_on_tkld': 321, 'pct_take_on_tkld': 41.6, 'ttl_carries': 12837, 'ttl_carries_dist': 69338, 'ttl_carries_prog_dist': 36188, 'ttl_carries_fthird': 522, 'ttl_carries_opp_box': 190, 'ttl_carries_miscontrolled': 598, 'ttl_carries_dispossessed': 341, 'ttl_pass_recvd': 15117, 'ttl_pass_prog_rcvd': 1262}, 'playingtime': {'avg_age': 27.3, 'avg_min_starter': 86.0, 'ttl_subs': 107, 'avg_min_sub': 16.0}, 'misc': {'ttl_second_yellow_cards': 2, 'ttl_fls_ag': 366, 'ttl_fls_for': 335, 'ttl_offside': 61, 'ttl_pk_won': 1, 'ttl_pk_conceded': 10, 'ttl_og': 1, 'ttl_ball_recov': 2104, 'ttl_air_dual_won': 461, 'ttl_air_dual_lost': 490}}}]}\n",
            "\n",
            "Premier League 2021-2022 Season:\n",
            "                  pk attempts  pk made\n",
            "team                                 \n",
            "Arsenal                    8        5\n",
            "Aston Villa                3        3\n",
            "Brentford                  6        6\n",
            "Brighton                   7        4\n",
            "Burnley                    2        1\n",
            "Chelsea                    9        8\n",
            "Crystal Palace             8        6\n",
            "Everton                    7        6\n",
            "Leeds United               5        5\n",
            "Leicester City             2        2\n",
            "Liverpool                  8        7\n",
            "Manchester City            9        7\n",
            "Manchester Utd             5        3\n",
            "Newcastle Utd              3        3\n",
            "Norwich City               3        3\n",
            "Southampton                4        4\n",
            "Tottenham                  5        5\n",
            "Watford                    2        1\n",
            "West Ham                   6        4\n",
            "Wolves                     1        1\n"
          ]
        }
      ]
    },
    {
      "cell_type": "code",
      "source": [
        "# To get multiple dataframes lets run the create_df a few more times\n",
        "df_pl2021 = create_df(9, \"2020-2021\")\n",
        "df_pl2223 = create_df(9, \"2022-2023\")\n",
        "df_pl2324 = create_df(9, \"2023-2024\")\n",
        "df_pl2425 = create_df(9, \"2024-2025\")\n"
      ],
      "metadata": {
        "id": "1kKI51M75vhW"
      },
      "execution_count": null,
      "outputs": []
    },
    {
      "cell_type": "code",
      "source": [
        "# Let's sure that the pk attempts and pk made are integers so that we can sum them (multiple season totals).\n",
        "\n",
        "df_pl2223.dtypes"
      ],
      "metadata": {
        "colab": {
          "base_uri": "https://localhost:8080/",
          "height": 147
        },
        "id": "q7F7wwqxB4LE",
        "outputId": "05d6a27f-d21b-4474-a617-2185680e4107"
      },
      "execution_count": null,
      "outputs": [
        {
          "output_type": "execute_result",
          "data": {
            "text/plain": [
              "pk attempts    int64\n",
              "pk made        int64\n",
              "dtype: object"
            ],
            "text/html": [
              "<div>\n",
              "<style scoped>\n",
              "    .dataframe tbody tr th:only-of-type {\n",
              "        vertical-align: middle;\n",
              "    }\n",
              "\n",
              "    .dataframe tbody tr th {\n",
              "        vertical-align: top;\n",
              "    }\n",
              "\n",
              "    .dataframe thead th {\n",
              "        text-align: right;\n",
              "    }\n",
              "</style>\n",
              "<table border=\"1\" class=\"dataframe\">\n",
              "  <thead>\n",
              "    <tr style=\"text-align: right;\">\n",
              "      <th></th>\n",
              "      <th>0</th>\n",
              "    </tr>\n",
              "  </thead>\n",
              "  <tbody>\n",
              "    <tr>\n",
              "      <th>pk attempts</th>\n",
              "      <td>int64</td>\n",
              "    </tr>\n",
              "    <tr>\n",
              "      <th>pk made</th>\n",
              "      <td>int64</td>\n",
              "    </tr>\n",
              "  </tbody>\n",
              "</table>\n",
              "</div><br><label><b>dtype:</b> object</label>"
            ]
          },
          "metadata": {},
          "execution_count": 72
        }
      ]
    },
    {
      "cell_type": "code",
      "source": [
        "# merging dataframes to sum attempts and goals while adding our conversion ratio of goals to attempts\n",
        "\n",
        "dataframes = [df_pl2021, df_pl2122, df_pl2223, df_pl2324, df_pl2425]\n",
        "\n",
        "merged_df = pd.concat(dataframes, join='outer').groupby('team').sum()\n",
        "\n",
        "merged_df['conversion ratio'] = (merged_df['pk made']/merged_df['pk attempts']).round(2)\n",
        "print(merged_df)\n"
      ],
      "metadata": {
        "colab": {
          "base_uri": "https://localhost:8080/"
        },
        "id": "iB213efzI1HO",
        "outputId": "01ec0d27-2ecb-4a3b-be5b-99586e28a9ec"
      },
      "execution_count": null,
      "outputs": [
        {
          "output_type": "stream",
          "name": "stdout",
          "text": [
            "                 pk attempts  pk made  conversion ratio\n",
            "team                                                   \n",
            "Arsenal                   30       26              0.87\n",
            "Aston Villa               23       18              0.78\n",
            "Bournemouth               10        8              0.80\n",
            "Brentford                 23       21              0.91\n",
            "Brighton                  35       28              0.80\n",
            "Burnley                    8        7              0.88\n",
            "Chelsea                   39       34              0.87\n",
            "Crystal Palace            23       17              0.74\n",
            "Everton                   20       17              0.85\n",
            "Fulham                    21       13              0.62\n",
            "Ipswich Town               2        2              1.00\n",
            "Leeds United              12       10              0.83\n",
            "Leicester City            23       17              0.74\n",
            "Liverpool                 36       30              0.83\n",
            "Luton Town                 5        5              1.00\n",
            "Manchester City           42       33              0.79\n",
            "Manchester Utd            30       26              0.87\n",
            "Newcastle Utd             31       28              0.90\n",
            "Norwich City               3        3              1.00\n",
            "Nott'ham Forest           10        7              0.70\n",
            "Sheffield Utd              9        8              0.89\n",
            "Southampton               16       11              0.69\n",
            "Tottenham                 22       20              0.91\n",
            "Watford                    2        1              0.50\n",
            "West Brom                  4        4              1.00\n",
            "West Ham                  26       19              0.73\n",
            "Wolves                    12       12              1.00\n"
          ]
        }
      ]
    },
    {
      "cell_type": "code",
      "source": [
        "# average conversion over the last 5 Premier League seasons.\n",
        "\n",
        "attempts = merged_df['pk attempts'].sum()\n",
        "goals = merged_df['pk made'].sum()\n",
        "\n",
        "print(goals/attempts)"
      ],
      "metadata": {
        "colab": {
          "base_uri": "https://localhost:8080/"
        },
        "id": "sWwkH5o_ddpV",
        "outputId": "779731b4-8742-4f56-9d2d-922103a29008"
      },
      "execution_count": null,
      "outputs": [
        {
          "output_type": "stream",
          "name": "stdout",
          "text": [
            "0.8220502901353965\n"
          ]
        }
      ]
    },
    {
      "cell_type": "code",
      "source": [
        "merged_df['conversion ratio'].median()"
      ],
      "metadata": {
        "colab": {
          "base_uri": "https://localhost:8080/"
        },
        "id": "OkpQunhde9Qh",
        "outputId": "16aaa989-ccb6-4df5-98e4-aacb2951e302"
      },
      "execution_count": null,
      "outputs": [
        {
          "output_type": "execute_result",
          "data": {
            "text/plain": [
              "0.85"
            ]
          },
          "metadata": {},
          "execution_count": 78
        }
      ]
    },
    {
      "cell_type": "code",
      "source": [
        "# Let's see if there are strong underperformers/overperformers. The xG of a PK is 0.79\n",
        "print(merged_df.sort_values(by='conversion ratio', ascending=False))"
      ],
      "metadata": {
        "colab": {
          "base_uri": "https://localhost:8080/"
        },
        "id": "ucAwHbO3fwXU",
        "outputId": "68940ea0-3401-475a-9be4-1105752972ca"
      },
      "execution_count": null,
      "outputs": [
        {
          "output_type": "stream",
          "name": "stdout",
          "text": [
            "                 pk attempts  pk made  conversion ratio\n",
            "team                                                   \n",
            "Ipswich Town               2        2              1.00\n",
            "Norwich City               3        3              1.00\n",
            "Luton Town                 5        5              1.00\n",
            "Wolves                    12       12              1.00\n",
            "West Brom                  4        4              1.00\n",
            "Brentford                 23       21              0.91\n",
            "Tottenham                 22       20              0.91\n",
            "Newcastle Utd             31       28              0.90\n",
            "Sheffield Utd              9        8              0.89\n",
            "Burnley                    8        7              0.88\n",
            "Arsenal                   30       26              0.87\n",
            "Chelsea                   39       34              0.87\n",
            "Manchester Utd            30       26              0.87\n",
            "Everton                   20       17              0.85\n",
            "Liverpool                 36       30              0.83\n",
            "Leeds United              12       10              0.83\n",
            "Bournemouth               10        8              0.80\n",
            "Brighton                  35       28              0.80\n",
            "Manchester City           42       33              0.79\n",
            "Aston Villa               23       18              0.78\n",
            "Crystal Palace            23       17              0.74\n",
            "Leicester City            23       17              0.74\n",
            "West Ham                  26       19              0.73\n",
            "Nott'ham Forest           10        7              0.70\n",
            "Southampton               16       11              0.69\n",
            "Fulham                    21       13              0.62\n",
            "Watford                    2        1              0.50\n"
          ]
        }
      ]
    },
    {
      "cell_type": "code",
      "source": [
        "# Let's remove the entries that 5 or less attempts as these represent teams that have only spent 1 year in the league.\n",
        "\n",
        "filter_by_attempts = merged_df.loc[merged_df['pk attempts'] > 5]\n",
        "print(filter_by_attempts.sort_values(by='conversion ratio', ascending=False))"
      ],
      "metadata": {
        "colab": {
          "base_uri": "https://localhost:8080/"
        },
        "id": "xZ-Nvnr5gI6o",
        "outputId": "8fcc9877-f8b1-4c42-fb57-a006e82ba840"
      },
      "execution_count": null,
      "outputs": [
        {
          "output_type": "stream",
          "name": "stdout",
          "text": [
            "                 pk attempts  pk made  conversion ratio\n",
            "team                                                   \n",
            "Wolves                    12       12              1.00\n",
            "Brentford                 23       21              0.91\n",
            "Tottenham                 22       20              0.91\n",
            "Newcastle Utd             31       28              0.90\n",
            "Sheffield Utd              9        8              0.89\n",
            "Burnley                    8        7              0.88\n",
            "Chelsea                   39       34              0.87\n",
            "Manchester Utd            30       26              0.87\n",
            "Arsenal                   30       26              0.87\n",
            "Everton                   20       17              0.85\n",
            "Leeds United              12       10              0.83\n",
            "Liverpool                 36       30              0.83\n",
            "Bournemouth               10        8              0.80\n",
            "Brighton                  35       28              0.80\n",
            "Manchester City           42       33              0.79\n",
            "Aston Villa               23       18              0.78\n",
            "Crystal Palace            23       17              0.74\n",
            "Leicester City            23       17              0.74\n",
            "West Ham                  26       19              0.73\n",
            "Nott'ham Forest           10        7              0.70\n",
            "Southampton               16       11              0.69\n",
            "Fulham                    21       13              0.62\n"
          ]
        }
      ]
    },
    {
      "cell_type": "code",
      "source": [
        "filter_by_attempts['conversion ratio'].median()"
      ],
      "metadata": {
        "colab": {
          "base_uri": "https://localhost:8080/"
        },
        "id": "uJGZIUYoqx2q",
        "outputId": "7c427373-3c00-4875-a144-78c13372e357"
      },
      "execution_count": null,
      "outputs": [
        {
          "output_type": "execute_result",
          "data": {
            "text/plain": [
              "0.83"
            ]
          },
          "metadata": {},
          "execution_count": 94
        }
      ]
    },
    {
      "cell_type": "code",
      "source": [
        "# Despite Fulham massively underperforming at penalty kicks, looking at the table it seems that a lot of teams are doing a lot better than the 0.79 probability of a PK goal.\n",
        "import statistics\n",
        "\n",
        "sd_list = []\n",
        "\n",
        "for i in filter_by_attempts['conversion ratio']:\n",
        "  sd_list.append(i)\n",
        "\n",
        "print(sd_list)\n",
        "print(f'standard deviation: {statistics.stdev(sd_list)}, mean: {statistics.mean(sd_list)}')\n",
        "\n"
      ],
      "metadata": {
        "colab": {
          "base_uri": "https://localhost:8080/"
        },
        "id": "mT-IRai3jNtR",
        "outputId": "41d82d34-4e2c-4956-96ee-f72ddde35118"
      },
      "execution_count": null,
      "outputs": [
        {
          "output_type": "stream",
          "name": "stdout",
          "text": [
            "[0.87, 0.78, 0.8, 0.91, 0.8, 0.88, 0.87, 0.74, 0.85, 0.62, 0.83, 0.74, 0.83, 0.79, 0.87, 0.9, 0.7, 0.89, 0.69, 0.91, 0.73, 1.0]\n",
            "standard deviation: 0.08931679112848367, mean: 0.8181818181818182\n"
          ]
        }
      ]
    },
    {
      "cell_type": "code",
      "source": [
        "#"
      ],
      "metadata": {
        "id": "6yP5P0ZnrU9q"
      },
      "execution_count": null,
      "outputs": []
    },
    {
      "cell_type": "code",
      "source": [
        "# Checking if this function works for other top leagues.\n",
        "\n",
        "df_sa2021 = create_df(league=11, year='2020-2021')\n",
        "\n",
        "print(df_sa2021)"
      ],
      "metadata": {
        "colab": {
          "base_uri": "https://localhost:8080/"
        },
        "id": "DFKWZsPanxnB",
        "outputId": "820355f1-a5fd-4e65-8b32-b991b451b828"
      },
      "execution_count": null,
      "outputs": [
        {
          "output_type": "stream",
          "name": "stdout",
          "text": [
            "               pk attempts  pk made\n",
            "team                               \n",
            "Atalanta                 7        6\n",
            "Benevento                7        5\n",
            "Bologna                  4        3\n",
            "Cagliari                 5        4\n",
            "Crotone                  9        9\n",
            "Fiorentina               6        6\n",
            "Genoa                    4        4\n",
            "Hellas Verona            3        3\n",
            "Inter                    9        8\n",
            "Juventus                10        8\n",
            "Lazio                   10        6\n",
            "Milan                   20       15\n",
            "Napoli                   8        7\n",
            "Parma                    5        5\n",
            "Roma                     8        7\n",
            "Sampdoria                6        5\n",
            "Sassuolo                14       13\n",
            "Spezia                   5        4\n",
            "Torino                   6        5\n",
            "Udinese                  4        4\n"
          ]
        }
      ]
    },
    {
      "cell_type": "code",
      "source": [
        "# TO DO:\n",
        "# Make the same data for 4 other leagues, make a pivot table where we compare total pk conversion in those leagues."
      ],
      "metadata": {
        "id": "brZVhfWPovfP"
      },
      "execution_count": null,
      "outputs": []
    }
  ]
}